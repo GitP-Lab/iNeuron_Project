{
 "cells": [
  {
   "cell_type": "code",
   "execution_count": 762,
   "metadata": {},
   "outputs": [],
   "source": [
    "import pandas as pd\n",
    "from collections import Counter\n",
    "import numpy as np"
   ]
  },
  {
   "cell_type": "code",
   "execution_count": 763,
   "metadata": {},
   "outputs": [],
   "source": [
    "pd.set_option('display.max_columns', None)\n",
    "pd.set_option('display.max_rows', None)\n"
   ]
  },
  {
   "cell_type": "code",
   "execution_count": 764,
   "metadata": {},
   "outputs": [
    {
     "data": {
      "text/plain": [
       "'Name\\nGender\\nAge\\nIncome\\nExpence\\nCompany'"
      ]
     },
     "execution_count": 764,
     "metadata": {},
     "output_type": "execute_result"
    }
   ],
   "source": [
    "\"\"\"Name\n",
    "Gender\n",
    "Age\n",
    "Income\n",
    "Company\"\"\""
   ]
  },
  {
   "cell_type": "markdown",
   "metadata": {},
   "source": [
    "# DataFrame Creation for  male_age_accept"
   ]
  },
  {
   "cell_type": "markdown",
   "metadata": {},
   "source": [
    "### Creating age\n",
    "#avg_men life acceptancy 68\n",
    "#avg_female life acceptancy 70"
   ]
  },
  {
   "cell_type": "code",
   "execution_count": 766,
   "metadata": {},
   "outputs": [],
   "source": [
    "male_age_accept=np.random.randint(25,62,size=3000) #loan accepted here\n",
    "male_age_reject=np.random.randint(63,68,size=500)  #loan rejected here mainly deu to age\n",
    "male_age_reject2=np.random.randint(25,62,size=1500) #loan rejected here mainly due to low income low savings and high age"
   ]
  },
  {
   "cell_type": "code",
   "execution_count": 767,
   "metadata": {},
   "outputs": [],
   "source": [
    "male_age_accept=male_age_accept.tolist()#converting to list\n",
    "male_age_reject=male_age_reject.tolist()#converting to list\n",
    "male_age_reject2=male_age_reject2.tolist()#converting to list"
   ]
  },
  {
   "cell_type": "code",
   "execution_count": 768,
   "metadata": {},
   "outputs": [],
   "source": [
    "female_age_accept=np.random.randint(25,63,size=3000)#loan accepted here\n",
    "female_age_reject=np.random.randint(64,71,size=500) #loan rejected here mainly deu to age\n",
    "female_age_reject2=np.random.randint(25,71,size=1500)#loan rejected here mainly due to low income low savings and high age"
   ]
  },
  {
   "cell_type": "code",
   "execution_count": 769,
   "metadata": {},
   "outputs": [],
   "source": [
    "female_age_accept=female_age_accept.tolist() #converting to list\n",
    "female_age_reject=female_age_reject.tolist()\n",
    "female_age_reject2=female_age_reject2.tolist()"
   ]
  },
  {
   "cell_type": "markdown",
   "metadata": {},
   "source": [
    "### DataFrame Creation"
   ]
  },
  {
   "cell_type": "code",
   "execution_count": 770,
   "metadata": {},
   "outputs": [],
   "source": [
    "df_male_age_accept=pd.DataFrame(male_age_accept,columns=[\"Age\"])\n",
    "df_male_age_reject=pd.DataFrame(male_age_reject,columns=[\"Age\"])\n",
    "df_male_age_reject2=pd.DataFrame(male_age_reject2,columns=[\"Age\"])\n",
    "df_female_age_accept=pd.DataFrame(female_age_accept,columns=[\"Age\"])\n",
    "df_female_age_reject=pd.DataFrame(female_age_reject,columns=[\"Age\"])\n",
    "df_female_age_reject2=pd.DataFrame(female_age_reject2,columns=[\"Age\"])"
   ]
  },
  {
   "cell_type": "markdown",
   "metadata": {},
   "source": [
    "### Creating Income unit is Rs. per annum"
   ]
  },
  {
   "cell_type": "markdown",
   "metadata": {},
   "source": [
    "![title](Salary.png)\n",
    "https://www.averagesalarysurvey.com/india"
   ]
  },
  {
   "cell_type": "code",
   "execution_count": 771,
   "metadata": {},
   "outputs": [
    {
     "data": {
      "text/plain": [
       "'20-26 =3,7\\n27-32=7,11\\n33-38=11,18\\n39-44=11,25\\n45-50=25,29\\n51-56=29,34\\n57-62=34-26\\n63-68=26-20'"
      ]
     },
     "execution_count": 771,
     "metadata": {},
     "output_type": "execute_result"
    }
   ],
   "source": [
    "\"\"\"20-26 =3,7\n",
    "27-32=7,11\n",
    "33-38=11,18\n",
    "39-44=11,25\n",
    "45-50=25,29\n",
    "51-56=29,34\n",
    "57-62=34-26\n",
    "63-68=26-20\"\"\""
   ]
  },
  {
   "cell_type": "markdown",
   "metadata": {},
   "source": [
    "###  Creating Income\n",
    "Income here is based on the survey image above.\n",
    "Income low to high here as this data is for loan accepted"
   ]
  },
  {
   "cell_type": "code",
   "execution_count": 772,
   "metadata": {},
   "outputs": [],
   "source": [
    "#for accept\n",
    "df_male_age_accept[\"Income\"]=0\n",
    "#print(df_male_age_accept)"
   ]
  },
  {
   "cell_type": "code",
   "execution_count": 773,
   "metadata": {},
   "outputs": [],
   "source": [
    "\n",
    "for index,val in enumerate(df_male_age_accept[\"Age\"]):\n",
    "    if(val<=25):\n",
    "        df_male_age_accept[\"Income\"][index]=round(np.random.randint(300000,700000)/1000)*1000\n",
    "    if(val>=26 and val<32):\n",
    "        df_male_age_accept[\"Income\"][index]=round(np.random.randint(700000,1100000)/1000)*1000\n",
    "    if(val>=32 and val<38):\n",
    "        df_male_age_accept[\"Income\"][index]=round(np.random.randint(1100000,1800000)/1000)*1000\n",
    "    if(val>=38 and val<44):\n",
    "        df_male_age_accept[\"Income\"][index]=round(np.random.randint(1800000,2500000)/1000)*1000\n",
    "    if(val>=44 and val<50):\n",
    "        df_male_age_accept[\"Income\"][index]=round(np.random.randint(2500000,2900000)/1000)*1000\n",
    "    if(val>=50 and val<57):\n",
    "        df_male_age_accept[\"Income\"][index]=round(np.random.randint(2900000,3400000)/1000)*1000\n",
    "    if(val>=57 and val<62):\n",
    "        df_male_age_accept[\"Income\"][index]=round(np.random.randint(2600000,3400000)/1000)*1000\n",
    "    if(val>=62 and val<=68):\n",
    "        df_male_age_accept[\"Income\"][index]=round(np.random.randint(2000000,2600000)/1000)*1000\n",
    "    "
   ]
  },
  {
   "cell_type": "markdown",
   "metadata": {},
   "source": [
    "###  Creating Expences"
   ]
  },
  {
   "cell_type": "markdown",
   "metadata": {},
   "source": [
    "       \n",
    "       salary range    savings\n",
    "        3,11   lpa    =15-20%\n",
    "        11,18 lpa     =21-25%\n",
    "        18,34 lpa     =25-40%\n",
    "        Savings are in decent to high as this data is for loan accepted"
   ]
  },
  {
   "cell_type": "code",
   "execution_count": 774,
   "metadata": {},
   "outputs": [],
   "source": [
    "df_male_age_accept[\"Expences\"]=0"
   ]
  },
  {
   "cell_type": "code",
   "execution_count": 775,
   "metadata": {},
   "outputs": [],
   "source": [
    "for index,income in enumerate(df_male_age_accept[\"Income\"]):\n",
    "    if(income>=300000 and income<1100000):\n",
    "        saving=np.random.randint(15,20)\n",
    "        df_male_age_accept[\"Expences\"][index]=((100-saving)*income)/100\n",
    "    if(income>=1100000 and income<1800000):\n",
    "        saving=np.random.randint(21,25)\n",
    "        df_male_age_accept[\"Expences\"][index]=((100-saving)*income)/100\n",
    "    if(income>=1800000 and income<=3400000):\n",
    "        saving=np.random.randint(25,40)\n",
    "        df_male_age_accept[\"Expences\"][index]=((100-saving)*income)/100\n",
    "    "
   ]
  },
  {
   "cell_type": "code",
   "execution_count": 776,
   "metadata": {},
   "outputs": [
    {
     "data": {
      "text/html": [
       "<div>\n",
       "<style scoped>\n",
       "    .dataframe tbody tr th:only-of-type {\n",
       "        vertical-align: middle;\n",
       "    }\n",
       "\n",
       "    .dataframe tbody tr th {\n",
       "        vertical-align: top;\n",
       "    }\n",
       "\n",
       "    .dataframe thead th {\n",
       "        text-align: right;\n",
       "    }\n",
       "</style>\n",
       "<table border=\"1\" class=\"dataframe\">\n",
       "  <thead>\n",
       "    <tr style=\"text-align: right;\">\n",
       "      <th></th>\n",
       "      <th>Age</th>\n",
       "      <th>Income</th>\n",
       "      <th>Expences</th>\n",
       "    </tr>\n",
       "  </thead>\n",
       "  <tbody>\n",
       "    <tr>\n",
       "      <th>0</th>\n",
       "      <td>56</td>\n",
       "      <td>3029000</td>\n",
       "      <td>1847690</td>\n",
       "    </tr>\n",
       "    <tr>\n",
       "      <th>1</th>\n",
       "      <td>29</td>\n",
       "      <td>796000</td>\n",
       "      <td>644760</td>\n",
       "    </tr>\n",
       "    <tr>\n",
       "      <th>2</th>\n",
       "      <td>50</td>\n",
       "      <td>3011000</td>\n",
       "      <td>2167920</td>\n",
       "    </tr>\n",
       "    <tr>\n",
       "      <th>3</th>\n",
       "      <td>46</td>\n",
       "      <td>2900000</td>\n",
       "      <td>2059000</td>\n",
       "    </tr>\n",
       "    <tr>\n",
       "      <th>4</th>\n",
       "      <td>36</td>\n",
       "      <td>1746000</td>\n",
       "      <td>1361880</td>\n",
       "    </tr>\n",
       "  </tbody>\n",
       "</table>\n",
       "</div>"
      ],
      "text/plain": [
       "   Age   Income  Expences\n",
       "0   56  3029000   1847690\n",
       "1   29   796000    644760\n",
       "2   50  3011000   2167920\n",
       "3   46  2900000   2059000\n",
       "4   36  1746000   1361880"
      ]
     },
     "execution_count": 776,
     "metadata": {},
     "output_type": "execute_result"
    }
   ],
   "source": [
    "df_male_age_accept.head()"
   ]
  },
  {
   "cell_type": "markdown",
   "metadata": {},
   "source": [
    "### Creation of Gender"
   ]
  },
  {
   "cell_type": "code",
   "execution_count": 777,
   "metadata": {},
   "outputs": [],
   "source": [
    "df_male_age_accept[\"Gender\"]=\"M\""
   ]
  },
  {
   "cell_type": "code",
   "execution_count": 778,
   "metadata": {},
   "outputs": [
    {
     "data": {
      "text/html": [
       "<div>\n",
       "<style scoped>\n",
       "    .dataframe tbody tr th:only-of-type {\n",
       "        vertical-align: middle;\n",
       "    }\n",
       "\n",
       "    .dataframe tbody tr th {\n",
       "        vertical-align: top;\n",
       "    }\n",
       "\n",
       "    .dataframe thead th {\n",
       "        text-align: right;\n",
       "    }\n",
       "</style>\n",
       "<table border=\"1\" class=\"dataframe\">\n",
       "  <thead>\n",
       "    <tr style=\"text-align: right;\">\n",
       "      <th></th>\n",
       "      <th>Age</th>\n",
       "      <th>Income</th>\n",
       "      <th>Expences</th>\n",
       "      <th>Gender</th>\n",
       "    </tr>\n",
       "  </thead>\n",
       "  <tbody>\n",
       "    <tr>\n",
       "      <th>0</th>\n",
       "      <td>56</td>\n",
       "      <td>3029000</td>\n",
       "      <td>1847690</td>\n",
       "      <td>M</td>\n",
       "    </tr>\n",
       "    <tr>\n",
       "      <th>1</th>\n",
       "      <td>29</td>\n",
       "      <td>796000</td>\n",
       "      <td>644760</td>\n",
       "      <td>M</td>\n",
       "    </tr>\n",
       "    <tr>\n",
       "      <th>2</th>\n",
       "      <td>50</td>\n",
       "      <td>3011000</td>\n",
       "      <td>2167920</td>\n",
       "      <td>M</td>\n",
       "    </tr>\n",
       "    <tr>\n",
       "      <th>3</th>\n",
       "      <td>46</td>\n",
       "      <td>2900000</td>\n",
       "      <td>2059000</td>\n",
       "      <td>M</td>\n",
       "    </tr>\n",
       "    <tr>\n",
       "      <th>4</th>\n",
       "      <td>36</td>\n",
       "      <td>1746000</td>\n",
       "      <td>1361880</td>\n",
       "      <td>M</td>\n",
       "    </tr>\n",
       "  </tbody>\n",
       "</table>\n",
       "</div>"
      ],
      "text/plain": [
       "   Age   Income  Expences Gender\n",
       "0   56  3029000   1847690      M\n",
       "1   29   796000    644760      M\n",
       "2   50  3011000   2167920      M\n",
       "3   46  2900000   2059000      M\n",
       "4   36  1746000   1361880      M"
      ]
     },
     "execution_count": 778,
     "metadata": {},
     "output_type": "execute_result"
    }
   ],
   "source": [
    "df_male_age_accept.head()"
   ]
  },
  {
   "cell_type": "markdown",
   "metadata": {},
   "source": [
    "### Creation of  Company\n",
    "rank 1 is good company  \n",
    "rank 2 is normal company   \n",
    "rank 3 is unknown company"
   ]
  },
  {
   "cell_type": "code",
   "execution_count": 779,
   "metadata": {
    "collapsed": true
   },
   "outputs": [
    {
     "name": "stderr",
     "output_type": "stream",
     "text": [
      "<ipython-input-779-96a34f2c470f>:8: SettingWithCopyWarning: \n",
      "A value is trying to be set on a copy of a slice from a DataFrame\n",
      "\n",
      "See the caveats in the documentation: https://pandas.pydata.org/pandas-docs/stable/user_guide/indexing.html#returning-a-view-versus-a-copy\n",
      "  df_male_age_accept[\"Company\"][index]=\"Rank 1\"\n",
      "<ipython-input-779-96a34f2c470f>:4: SettingWithCopyWarning: \n",
      "A value is trying to be set on a copy of a slice from a DataFrame\n",
      "\n",
      "See the caveats in the documentation: https://pandas.pydata.org/pandas-docs/stable/user_guide/indexing.html#returning-a-view-versus-a-copy\n",
      "  df_male_age_accept[\"Company\"][index]=\"Rank 2\"\n",
      "<ipython-input-779-96a34f2c470f>:6: SettingWithCopyWarning: \n",
      "A value is trying to be set on a copy of a slice from a DataFrame\n",
      "\n",
      "See the caveats in the documentation: https://pandas.pydata.org/pandas-docs/stable/user_guide/indexing.html#returning-a-view-versus-a-copy\n",
      "  df_male_age_accept[\"Company\"][index]=\"Rank 1\"\n"
     ]
    }
   ],
   "source": [
    "df_male_age_accept[\"Company\"]=\"Rank 1\"\n",
    "for index,income in enumerate(df_male_age_accept[\"Income\"]):\n",
    "    if(income>=300000 and income<1500000):\n",
    "        df_male_age_accept[\"Company\"][index]=\"Rank 2\"\n",
    "    if(income>=1500000 and income<1800000):\n",
    "        df_male_age_accept[\"Company\"][index]=\"Rank 1\"\n",
    "    if(income>=1800000 and income<=3400000):\n",
    "        df_male_age_accept[\"Company\"][index]=\"Rank 1\""
   ]
  },
  {
   "cell_type": "markdown",
   "metadata": {},
   "source": [
    "###  Randomly adding rank 3 and rank 2 for accepted loan "
   ]
  },
  {
   "cell_type": "code",
   "execution_count": 780,
   "metadata": {
    "collapsed": true
   },
   "outputs": [
    {
     "name": "stderr",
     "output_type": "stream",
     "text": [
      "<ipython-input-780-9ebc3cfc304e>:4: SettingWithCopyWarning: \n",
      "A value is trying to be set on a copy of a slice from a DataFrame\n",
      "\n",
      "See the caveats in the documentation: https://pandas.pydata.org/pandas-docs/stable/user_guide/indexing.html#returning-a-view-versus-a-copy\n",
      "  df_male_age_accept[\"Company\"][index]=\"Rank 3\"\n",
      "<ipython-input-780-9ebc3cfc304e>:8: SettingWithCopyWarning: \n",
      "A value is trying to be set on a copy of a slice from a DataFrame\n",
      "\n",
      "See the caveats in the documentation: https://pandas.pydata.org/pandas-docs/stable/user_guide/indexing.html#returning-a-view-versus-a-copy\n",
      "  df_male_age_accept[\"Company\"][index]=\"Rank 2\"\n"
     ]
    }
   ],
   "source": [
    "#adding 20% of total as a Rank 3 company\n",
    "for i in range(int(df_male_age_accept.shape[0]*0.2)):\n",
    "    index=np.random.randint(0,df_male_age_accept.shape[0]-1)\n",
    "    df_male_age_accept[\"Company\"][index]=\"Rank 3\"\n",
    "#adding 30% of total as a Rank 2 company\n",
    "for i in range(int(df_male_age_accept.shape[0]*0.3)):\n",
    "    index=np.random.randint(0,df_male_age_accept.shape[0]-1)\n",
    "    df_male_age_accept[\"Company\"][index]=\"Rank 2\"    \n",
    "    "
   ]
  },
  {
   "cell_type": "code",
   "execution_count": 781,
   "metadata": {},
   "outputs": [
    {
     "data": {
      "text/html": [
       "<div>\n",
       "<style scoped>\n",
       "    .dataframe tbody tr th:only-of-type {\n",
       "        vertical-align: middle;\n",
       "    }\n",
       "\n",
       "    .dataframe tbody tr th {\n",
       "        vertical-align: top;\n",
       "    }\n",
       "\n",
       "    .dataframe thead th {\n",
       "        text-align: right;\n",
       "    }\n",
       "</style>\n",
       "<table border=\"1\" class=\"dataframe\">\n",
       "  <thead>\n",
       "    <tr style=\"text-align: right;\">\n",
       "      <th></th>\n",
       "      <th>Age</th>\n",
       "      <th>Income</th>\n",
       "      <th>Expences</th>\n",
       "      <th>Gender</th>\n",
       "      <th>Company</th>\n",
       "    </tr>\n",
       "  </thead>\n",
       "  <tbody>\n",
       "    <tr>\n",
       "      <th>0</th>\n",
       "      <td>56</td>\n",
       "      <td>3029000</td>\n",
       "      <td>1847690</td>\n",
       "      <td>M</td>\n",
       "      <td>Rank 1</td>\n",
       "    </tr>\n",
       "    <tr>\n",
       "      <th>1</th>\n",
       "      <td>29</td>\n",
       "      <td>796000</td>\n",
       "      <td>644760</td>\n",
       "      <td>M</td>\n",
       "      <td>Rank 2</td>\n",
       "    </tr>\n",
       "    <tr>\n",
       "      <th>2</th>\n",
       "      <td>50</td>\n",
       "      <td>3011000</td>\n",
       "      <td>2167920</td>\n",
       "      <td>M</td>\n",
       "      <td>Rank 2</td>\n",
       "    </tr>\n",
       "    <tr>\n",
       "      <th>3</th>\n",
       "      <td>46</td>\n",
       "      <td>2900000</td>\n",
       "      <td>2059000</td>\n",
       "      <td>M</td>\n",
       "      <td>Rank 1</td>\n",
       "    </tr>\n",
       "    <tr>\n",
       "      <th>4</th>\n",
       "      <td>36</td>\n",
       "      <td>1746000</td>\n",
       "      <td>1361880</td>\n",
       "      <td>M</td>\n",
       "      <td>Rank 2</td>\n",
       "    </tr>\n",
       "  </tbody>\n",
       "</table>\n",
       "</div>"
      ],
      "text/plain": [
       "   Age   Income  Expences Gender Company\n",
       "0   56  3029000   1847690      M  Rank 1\n",
       "1   29   796000    644760      M  Rank 2\n",
       "2   50  3011000   2167920      M  Rank 2\n",
       "3   46  2900000   2059000      M  Rank 1\n",
       "4   36  1746000   1361880      M  Rank 2"
      ]
     },
     "execution_count": 781,
     "metadata": {},
     "output_type": "execute_result"
    }
   ],
   "source": [
    "df_male_age_accept.head()"
   ]
  },
  {
   "cell_type": "markdown",
   "metadata": {},
   "source": [
    "### Loan"
   ]
  },
  {
   "cell_type": "code",
   "execution_count": 782,
   "metadata": {},
   "outputs": [],
   "source": [
    "df_male_age_accept[\"Loan\"]=\"Accepted\""
   ]
  },
  {
   "cell_type": "code",
   "execution_count": 783,
   "metadata": {
    "scrolled": true
   },
   "outputs": [
    {
     "data": {
      "text/html": [
       "<div>\n",
       "<style scoped>\n",
       "    .dataframe tbody tr th:only-of-type {\n",
       "        vertical-align: middle;\n",
       "    }\n",
       "\n",
       "    .dataframe tbody tr th {\n",
       "        vertical-align: top;\n",
       "    }\n",
       "\n",
       "    .dataframe thead th {\n",
       "        text-align: right;\n",
       "    }\n",
       "</style>\n",
       "<table border=\"1\" class=\"dataframe\">\n",
       "  <thead>\n",
       "    <tr style=\"text-align: right;\">\n",
       "      <th></th>\n",
       "      <th>Age</th>\n",
       "      <th>Income</th>\n",
       "      <th>Expences</th>\n",
       "      <th>Gender</th>\n",
       "      <th>Company</th>\n",
       "      <th>Loan</th>\n",
       "    </tr>\n",
       "  </thead>\n",
       "  <tbody>\n",
       "    <tr>\n",
       "      <th>0</th>\n",
       "      <td>56</td>\n",
       "      <td>3029000</td>\n",
       "      <td>1847690</td>\n",
       "      <td>M</td>\n",
       "      <td>Rank 1</td>\n",
       "      <td>Accepted</td>\n",
       "    </tr>\n",
       "    <tr>\n",
       "      <th>1</th>\n",
       "      <td>29</td>\n",
       "      <td>796000</td>\n",
       "      <td>644760</td>\n",
       "      <td>M</td>\n",
       "      <td>Rank 2</td>\n",
       "      <td>Accepted</td>\n",
       "    </tr>\n",
       "    <tr>\n",
       "      <th>2</th>\n",
       "      <td>50</td>\n",
       "      <td>3011000</td>\n",
       "      <td>2167920</td>\n",
       "      <td>M</td>\n",
       "      <td>Rank 2</td>\n",
       "      <td>Accepted</td>\n",
       "    </tr>\n",
       "    <tr>\n",
       "      <th>3</th>\n",
       "      <td>46</td>\n",
       "      <td>2900000</td>\n",
       "      <td>2059000</td>\n",
       "      <td>M</td>\n",
       "      <td>Rank 1</td>\n",
       "      <td>Accepted</td>\n",
       "    </tr>\n",
       "    <tr>\n",
       "      <th>4</th>\n",
       "      <td>36</td>\n",
       "      <td>1746000</td>\n",
       "      <td>1361880</td>\n",
       "      <td>M</td>\n",
       "      <td>Rank 2</td>\n",
       "      <td>Accepted</td>\n",
       "    </tr>\n",
       "  </tbody>\n",
       "</table>\n",
       "</div>"
      ],
      "text/plain": [
       "   Age   Income  Expences Gender Company      Loan\n",
       "0   56  3029000   1847690      M  Rank 1  Accepted\n",
       "1   29   796000    644760      M  Rank 2  Accepted\n",
       "2   50  3011000   2167920      M  Rank 2  Accepted\n",
       "3   46  2900000   2059000      M  Rank 1  Accepted\n",
       "4   36  1746000   1361880      M  Rank 2  Accepted"
      ]
     },
     "execution_count": 783,
     "metadata": {},
     "output_type": "execute_result"
    }
   ],
   "source": [
    "df_male_age_accept.head()"
   ]
  },
  {
   "cell_type": "markdown",
   "metadata": {},
   "source": [
    "# DataFrame Creation for male_age_reject\n",
    "#loan rejected here mainly deu to age"
   ]
  },
  {
   "cell_type": "code",
   "execution_count": 784,
   "metadata": {},
   "outputs": [
    {
     "data": {
      "text/html": [
       "<div>\n",
       "<style scoped>\n",
       "    .dataframe tbody tr th:only-of-type {\n",
       "        vertical-align: middle;\n",
       "    }\n",
       "\n",
       "    .dataframe tbody tr th {\n",
       "        vertical-align: top;\n",
       "    }\n",
       "\n",
       "    .dataframe thead th {\n",
       "        text-align: right;\n",
       "    }\n",
       "</style>\n",
       "<table border=\"1\" class=\"dataframe\">\n",
       "  <thead>\n",
       "    <tr style=\"text-align: right;\">\n",
       "      <th></th>\n",
       "      <th>Age</th>\n",
       "    </tr>\n",
       "  </thead>\n",
       "  <tbody>\n",
       "    <tr>\n",
       "      <th>count</th>\n",
       "      <td>500.000000</td>\n",
       "    </tr>\n",
       "    <tr>\n",
       "      <th>mean</th>\n",
       "      <td>64.994000</td>\n",
       "    </tr>\n",
       "    <tr>\n",
       "      <th>std</th>\n",
       "      <td>1.383399</td>\n",
       "    </tr>\n",
       "    <tr>\n",
       "      <th>min</th>\n",
       "      <td>63.000000</td>\n",
       "    </tr>\n",
       "    <tr>\n",
       "      <th>25%</th>\n",
       "      <td>64.000000</td>\n",
       "    </tr>\n",
       "    <tr>\n",
       "      <th>50%</th>\n",
       "      <td>65.000000</td>\n",
       "    </tr>\n",
       "    <tr>\n",
       "      <th>75%</th>\n",
       "      <td>66.000000</td>\n",
       "    </tr>\n",
       "    <tr>\n",
       "      <th>max</th>\n",
       "      <td>67.000000</td>\n",
       "    </tr>\n",
       "  </tbody>\n",
       "</table>\n",
       "</div>"
      ],
      "text/plain": [
       "              Age\n",
       "count  500.000000\n",
       "mean    64.994000\n",
       "std      1.383399\n",
       "min     63.000000\n",
       "25%     64.000000\n",
       "50%     65.000000\n",
       "75%     66.000000\n",
       "max     67.000000"
      ]
     },
     "execution_count": 784,
     "metadata": {},
     "output_type": "execute_result"
    }
   ],
   "source": [
    "df_male_age_reject.describe()"
   ]
  },
  {
   "cell_type": "markdown",
   "metadata": {},
   "source": [
    "### Creation for income \n",
    "since this dataframe is the data for rejection so I have taken low to avg income.\n",
    "Idea is that both high age and low salary may be the factor which might lead to rejection of a Loan"
   ]
  },
  {
   "cell_type": "code",
   "execution_count": 785,
   "metadata": {},
   "outputs": [],
   "source": [
    "df_male_age_reject[\"Income\"]=0"
   ]
  },
  {
   "cell_type": "code",
   "execution_count": 786,
   "metadata": {},
   "outputs": [],
   "source": [
    "for index in range(df_male_age_reject.shape[0]):\n",
    "    df_male_age_reject[\"Income\"][index]=round(np.random.randint(300000,1200000)/1000)*1000"
   ]
  },
  {
   "cell_type": "code",
   "execution_count": 787,
   "metadata": {},
   "outputs": [
    {
     "data": {
      "text/html": [
       "<div>\n",
       "<style scoped>\n",
       "    .dataframe tbody tr th:only-of-type {\n",
       "        vertical-align: middle;\n",
       "    }\n",
       "\n",
       "    .dataframe tbody tr th {\n",
       "        vertical-align: top;\n",
       "    }\n",
       "\n",
       "    .dataframe thead th {\n",
       "        text-align: right;\n",
       "    }\n",
       "</style>\n",
       "<table border=\"1\" class=\"dataframe\">\n",
       "  <thead>\n",
       "    <tr style=\"text-align: right;\">\n",
       "      <th></th>\n",
       "      <th>Age</th>\n",
       "      <th>Income</th>\n",
       "    </tr>\n",
       "  </thead>\n",
       "  <tbody>\n",
       "    <tr>\n",
       "      <th>0</th>\n",
       "      <td>67</td>\n",
       "      <td>606000</td>\n",
       "    </tr>\n",
       "    <tr>\n",
       "      <th>1</th>\n",
       "      <td>67</td>\n",
       "      <td>910000</td>\n",
       "    </tr>\n",
       "    <tr>\n",
       "      <th>2</th>\n",
       "      <td>64</td>\n",
       "      <td>607000</td>\n",
       "    </tr>\n",
       "    <tr>\n",
       "      <th>3</th>\n",
       "      <td>67</td>\n",
       "      <td>635000</td>\n",
       "    </tr>\n",
       "    <tr>\n",
       "      <th>4</th>\n",
       "      <td>64</td>\n",
       "      <td>477000</td>\n",
       "    </tr>\n",
       "  </tbody>\n",
       "</table>\n",
       "</div>"
      ],
      "text/plain": [
       "   Age  Income\n",
       "0   67  606000\n",
       "1   67  910000\n",
       "2   64  607000\n",
       "3   67  635000\n",
       "4   64  477000"
      ]
     },
     "execution_count": 787,
     "metadata": {},
     "output_type": "execute_result"
    }
   ],
   "source": [
    "df_male_age_reject.head()"
   ]
  },
  {
   "cell_type": "markdown",
   "metadata": {},
   "source": [
    "### Creation of Expences\n",
    "Idea here is to give high expences which also contribute for the rejection of loan   \n",
    "I am considering 85-95% of expenditure of income."
   ]
  },
  {
   "cell_type": "code",
   "execution_count": 788,
   "metadata": {},
   "outputs": [],
   "source": [
    "df_male_age_reject[\"Expences\"]=0"
   ]
  },
  {
   "cell_type": "code",
   "execution_count": 789,
   "metadata": {},
   "outputs": [],
   "source": [
    "for index,income in enumerate(df_male_age_reject[\"Income\"]):\n",
    "    saving=np.random.randint(5,15)\n",
    "    df_male_age_reject[\"Expences\"][index]=((100-saving)*income)/100\n",
    "    \n",
    "    "
   ]
  },
  {
   "cell_type": "code",
   "execution_count": 790,
   "metadata": {},
   "outputs": [
    {
     "data": {
      "text/html": [
       "<div>\n",
       "<style scoped>\n",
       "    .dataframe tbody tr th:only-of-type {\n",
       "        vertical-align: middle;\n",
       "    }\n",
       "\n",
       "    .dataframe tbody tr th {\n",
       "        vertical-align: top;\n",
       "    }\n",
       "\n",
       "    .dataframe thead th {\n",
       "        text-align: right;\n",
       "    }\n",
       "</style>\n",
       "<table border=\"1\" class=\"dataframe\">\n",
       "  <thead>\n",
       "    <tr style=\"text-align: right;\">\n",
       "      <th></th>\n",
       "      <th>Age</th>\n",
       "      <th>Income</th>\n",
       "      <th>Expences</th>\n",
       "    </tr>\n",
       "  </thead>\n",
       "  <tbody>\n",
       "    <tr>\n",
       "      <th>0</th>\n",
       "      <td>67</td>\n",
       "      <td>606000</td>\n",
       "      <td>533280</td>\n",
       "    </tr>\n",
       "    <tr>\n",
       "      <th>1</th>\n",
       "      <td>67</td>\n",
       "      <td>910000</td>\n",
       "      <td>855400</td>\n",
       "    </tr>\n",
       "    <tr>\n",
       "      <th>2</th>\n",
       "      <td>64</td>\n",
       "      <td>607000</td>\n",
       "      <td>528090</td>\n",
       "    </tr>\n",
       "    <tr>\n",
       "      <th>3</th>\n",
       "      <td>67</td>\n",
       "      <td>635000</td>\n",
       "      <td>603250</td>\n",
       "    </tr>\n",
       "    <tr>\n",
       "      <th>4</th>\n",
       "      <td>64</td>\n",
       "      <td>477000</td>\n",
       "      <td>419760</td>\n",
       "    </tr>\n",
       "  </tbody>\n",
       "</table>\n",
       "</div>"
      ],
      "text/plain": [
       "   Age  Income  Expences\n",
       "0   67  606000    533280\n",
       "1   67  910000    855400\n",
       "2   64  607000    528090\n",
       "3   67  635000    603250\n",
       "4   64  477000    419760"
      ]
     },
     "execution_count": 790,
     "metadata": {},
     "output_type": "execute_result"
    }
   ],
   "source": [
    "df_male_age_reject.head()"
   ]
  },
  {
   "cell_type": "markdown",
   "metadata": {},
   "source": [
    "### Gender"
   ]
  },
  {
   "cell_type": "code",
   "execution_count": 791,
   "metadata": {},
   "outputs": [],
   "source": [
    "df_male_age_reject[\"Gender\"]=\"M\""
   ]
  },
  {
   "cell_type": "code",
   "execution_count": 792,
   "metadata": {},
   "outputs": [
    {
     "data": {
      "text/html": [
       "<div>\n",
       "<style scoped>\n",
       "    .dataframe tbody tr th:only-of-type {\n",
       "        vertical-align: middle;\n",
       "    }\n",
       "\n",
       "    .dataframe tbody tr th {\n",
       "        vertical-align: top;\n",
       "    }\n",
       "\n",
       "    .dataframe thead th {\n",
       "        text-align: right;\n",
       "    }\n",
       "</style>\n",
       "<table border=\"1\" class=\"dataframe\">\n",
       "  <thead>\n",
       "    <tr style=\"text-align: right;\">\n",
       "      <th></th>\n",
       "      <th>Age</th>\n",
       "      <th>Income</th>\n",
       "      <th>Expences</th>\n",
       "      <th>Gender</th>\n",
       "    </tr>\n",
       "  </thead>\n",
       "  <tbody>\n",
       "    <tr>\n",
       "      <th>0</th>\n",
       "      <td>67</td>\n",
       "      <td>606000</td>\n",
       "      <td>533280</td>\n",
       "      <td>M</td>\n",
       "    </tr>\n",
       "    <tr>\n",
       "      <th>1</th>\n",
       "      <td>67</td>\n",
       "      <td>910000</td>\n",
       "      <td>855400</td>\n",
       "      <td>M</td>\n",
       "    </tr>\n",
       "    <tr>\n",
       "      <th>2</th>\n",
       "      <td>64</td>\n",
       "      <td>607000</td>\n",
       "      <td>528090</td>\n",
       "      <td>M</td>\n",
       "    </tr>\n",
       "    <tr>\n",
       "      <th>3</th>\n",
       "      <td>67</td>\n",
       "      <td>635000</td>\n",
       "      <td>603250</td>\n",
       "      <td>M</td>\n",
       "    </tr>\n",
       "    <tr>\n",
       "      <th>4</th>\n",
       "      <td>64</td>\n",
       "      <td>477000</td>\n",
       "      <td>419760</td>\n",
       "      <td>M</td>\n",
       "    </tr>\n",
       "  </tbody>\n",
       "</table>\n",
       "</div>"
      ],
      "text/plain": [
       "   Age  Income  Expences Gender\n",
       "0   67  606000    533280      M\n",
       "1   67  910000    855400      M\n",
       "2   64  607000    528090      M\n",
       "3   67  635000    603250      M\n",
       "4   64  477000    419760      M"
      ]
     },
     "execution_count": 792,
     "metadata": {},
     "output_type": "execute_result"
    }
   ],
   "source": [
    "df_male_age_reject.head()"
   ]
  },
  {
   "cell_type": "markdown",
   "metadata": {},
   "source": [
    "### Company\n",
    "My thought here is to put rank 3 company for those people with low salary and rank 2 company for those people with salary higher than 6lakh"
   ]
  },
  {
   "cell_type": "code",
   "execution_count": 793,
   "metadata": {},
   "outputs": [],
   "source": [
    "df_male_age_reject[\"Company\"]=\"Rank 3\""
   ]
  },
  {
   "cell_type": "code",
   "execution_count": 794,
   "metadata": {},
   "outputs": [
    {
     "name": "stderr",
     "output_type": "stream",
     "text": [
      "<ipython-input-794-3a0b0cce80ec>:4: SettingWithCopyWarning: \n",
      "A value is trying to be set on a copy of a slice from a DataFrame\n",
      "\n",
      "See the caveats in the documentation: https://pandas.pydata.org/pandas-docs/stable/user_guide/indexing.html#returning-a-view-versus-a-copy\n",
      "  df_male_age_reject[\"Company\"][index]=\"Rank 2\"\n",
      "<ipython-input-794-3a0b0cce80ec>:8: SettingWithCopyWarning: \n",
      "A value is trying to be set on a copy of a slice from a DataFrame\n",
      "\n",
      "See the caveats in the documentation: https://pandas.pydata.org/pandas-docs/stable/user_guide/indexing.html#returning-a-view-versus-a-copy\n",
      "  df_male_age_reject[\"Company\"][index]=\"Rank 1\"\n"
     ]
    }
   ],
   "source": [
    "#adding 10% of data as rank 2\n",
    "for i in range(int(df_male_age_reject.shape[0]*0.10)):\n",
    "    index=np.random.randint(0,df_male_age_reject.shape[0]-1)\n",
    "    df_male_age_reject[\"Company\"][index]=\"Rank 2\"\n",
    "#adding 5% od data as rank 2\n",
    "for i in range(int(df_male_age_reject.shape[0]*0.15)):\n",
    "    index=np.random.randint(0,df_male_age_reject.shape[0]-1)\n",
    "    df_male_age_reject[\"Company\"][index]=\"Rank 1\"\n",
    "    "
   ]
  },
  {
   "cell_type": "code",
   "execution_count": 795,
   "metadata": {
    "scrolled": false
   },
   "outputs": [
    {
     "data": {
      "text/html": [
       "<div>\n",
       "<style scoped>\n",
       "    .dataframe tbody tr th:only-of-type {\n",
       "        vertical-align: middle;\n",
       "    }\n",
       "\n",
       "    .dataframe tbody tr th {\n",
       "        vertical-align: top;\n",
       "    }\n",
       "\n",
       "    .dataframe thead th {\n",
       "        text-align: right;\n",
       "    }\n",
       "</style>\n",
       "<table border=\"1\" class=\"dataframe\">\n",
       "  <thead>\n",
       "    <tr style=\"text-align: right;\">\n",
       "      <th></th>\n",
       "      <th>Age</th>\n",
       "      <th>Income</th>\n",
       "      <th>Expences</th>\n",
       "      <th>Gender</th>\n",
       "      <th>Company</th>\n",
       "    </tr>\n",
       "  </thead>\n",
       "  <tbody>\n",
       "    <tr>\n",
       "      <th>0</th>\n",
       "      <td>67</td>\n",
       "      <td>606000</td>\n",
       "      <td>533280</td>\n",
       "      <td>M</td>\n",
       "      <td>Rank 3</td>\n",
       "    </tr>\n",
       "    <tr>\n",
       "      <th>1</th>\n",
       "      <td>67</td>\n",
       "      <td>910000</td>\n",
       "      <td>855400</td>\n",
       "      <td>M</td>\n",
       "      <td>Rank 3</td>\n",
       "    </tr>\n",
       "    <tr>\n",
       "      <th>2</th>\n",
       "      <td>64</td>\n",
       "      <td>607000</td>\n",
       "      <td>528090</td>\n",
       "      <td>M</td>\n",
       "      <td>Rank 3</td>\n",
       "    </tr>\n",
       "    <tr>\n",
       "      <th>3</th>\n",
       "      <td>67</td>\n",
       "      <td>635000</td>\n",
       "      <td>603250</td>\n",
       "      <td>M</td>\n",
       "      <td>Rank 3</td>\n",
       "    </tr>\n",
       "    <tr>\n",
       "      <th>4</th>\n",
       "      <td>64</td>\n",
       "      <td>477000</td>\n",
       "      <td>419760</td>\n",
       "      <td>M</td>\n",
       "      <td>Rank 3</td>\n",
       "    </tr>\n",
       "  </tbody>\n",
       "</table>\n",
       "</div>"
      ],
      "text/plain": [
       "   Age  Income  Expences Gender Company\n",
       "0   67  606000    533280      M  Rank 3\n",
       "1   67  910000    855400      M  Rank 3\n",
       "2   64  607000    528090      M  Rank 3\n",
       "3   67  635000    603250      M  Rank 3\n",
       "4   64  477000    419760      M  Rank 3"
      ]
     },
     "execution_count": 795,
     "metadata": {},
     "output_type": "execute_result"
    }
   ],
   "source": [
    "df_male_age_reject.head()"
   ]
  },
  {
   "cell_type": "code",
   "execution_count": 796,
   "metadata": {},
   "outputs": [
    {
     "data": {
      "text/plain": [
       "Counter({'Rank 3': 391, 'Rank 1': 68, 'Rank 2': 41})"
      ]
     },
     "execution_count": 796,
     "metadata": {},
     "output_type": "execute_result"
    }
   ],
   "source": [
    "Counter(df_male_age_reject[\"Company\"])"
   ]
  },
  {
   "cell_type": "markdown",
   "metadata": {},
   "source": [
    "### Loan"
   ]
  },
  {
   "cell_type": "code",
   "execution_count": 797,
   "metadata": {},
   "outputs": [],
   "source": [
    "df_male_age_reject[\"Loan\"]=\"Rejected\""
   ]
  },
  {
   "cell_type": "code",
   "execution_count": 798,
   "metadata": {},
   "outputs": [
    {
     "data": {
      "text/html": [
       "<div>\n",
       "<style scoped>\n",
       "    .dataframe tbody tr th:only-of-type {\n",
       "        vertical-align: middle;\n",
       "    }\n",
       "\n",
       "    .dataframe tbody tr th {\n",
       "        vertical-align: top;\n",
       "    }\n",
       "\n",
       "    .dataframe thead th {\n",
       "        text-align: right;\n",
       "    }\n",
       "</style>\n",
       "<table border=\"1\" class=\"dataframe\">\n",
       "  <thead>\n",
       "    <tr style=\"text-align: right;\">\n",
       "      <th></th>\n",
       "      <th>Age</th>\n",
       "      <th>Income</th>\n",
       "      <th>Expences</th>\n",
       "      <th>Gender</th>\n",
       "      <th>Company</th>\n",
       "      <th>Loan</th>\n",
       "    </tr>\n",
       "  </thead>\n",
       "  <tbody>\n",
       "    <tr>\n",
       "      <th>0</th>\n",
       "      <td>67</td>\n",
       "      <td>606000</td>\n",
       "      <td>533280</td>\n",
       "      <td>M</td>\n",
       "      <td>Rank 3</td>\n",
       "      <td>Rejected</td>\n",
       "    </tr>\n",
       "    <tr>\n",
       "      <th>1</th>\n",
       "      <td>67</td>\n",
       "      <td>910000</td>\n",
       "      <td>855400</td>\n",
       "      <td>M</td>\n",
       "      <td>Rank 3</td>\n",
       "      <td>Rejected</td>\n",
       "    </tr>\n",
       "    <tr>\n",
       "      <th>2</th>\n",
       "      <td>64</td>\n",
       "      <td>607000</td>\n",
       "      <td>528090</td>\n",
       "      <td>M</td>\n",
       "      <td>Rank 3</td>\n",
       "      <td>Rejected</td>\n",
       "    </tr>\n",
       "    <tr>\n",
       "      <th>3</th>\n",
       "      <td>67</td>\n",
       "      <td>635000</td>\n",
       "      <td>603250</td>\n",
       "      <td>M</td>\n",
       "      <td>Rank 3</td>\n",
       "      <td>Rejected</td>\n",
       "    </tr>\n",
       "    <tr>\n",
       "      <th>4</th>\n",
       "      <td>64</td>\n",
       "      <td>477000</td>\n",
       "      <td>419760</td>\n",
       "      <td>M</td>\n",
       "      <td>Rank 3</td>\n",
       "      <td>Rejected</td>\n",
       "    </tr>\n",
       "  </tbody>\n",
       "</table>\n",
       "</div>"
      ],
      "text/plain": [
       "   Age  Income  Expences Gender Company      Loan\n",
       "0   67  606000    533280      M  Rank 3  Rejected\n",
       "1   67  910000    855400      M  Rank 3  Rejected\n",
       "2   64  607000    528090      M  Rank 3  Rejected\n",
       "3   67  635000    603250      M  Rank 3  Rejected\n",
       "4   64  477000    419760      M  Rank 3  Rejected"
      ]
     },
     "execution_count": 798,
     "metadata": {},
     "output_type": "execute_result"
    }
   ],
   "source": [
    "df_male_age_reject.head()"
   ]
  },
  {
   "cell_type": "markdown",
   "metadata": {},
   "source": [
    "# male_age_reject2"
   ]
  },
  {
   "cell_type": "code",
   "execution_count": 799,
   "metadata": {},
   "outputs": [
    {
     "data": {
      "text/html": [
       "<div>\n",
       "<style scoped>\n",
       "    .dataframe tbody tr th:only-of-type {\n",
       "        vertical-align: middle;\n",
       "    }\n",
       "\n",
       "    .dataframe tbody tr th {\n",
       "        vertical-align: top;\n",
       "    }\n",
       "\n",
       "    .dataframe thead th {\n",
       "        text-align: right;\n",
       "    }\n",
       "</style>\n",
       "<table border=\"1\" class=\"dataframe\">\n",
       "  <thead>\n",
       "    <tr style=\"text-align: right;\">\n",
       "      <th></th>\n",
       "      <th>Age</th>\n",
       "    </tr>\n",
       "  </thead>\n",
       "  <tbody>\n",
       "    <tr>\n",
       "      <th>0</th>\n",
       "      <td>59</td>\n",
       "    </tr>\n",
       "    <tr>\n",
       "      <th>1</th>\n",
       "      <td>44</td>\n",
       "    </tr>\n",
       "    <tr>\n",
       "      <th>2</th>\n",
       "      <td>54</td>\n",
       "    </tr>\n",
       "    <tr>\n",
       "      <th>3</th>\n",
       "      <td>48</td>\n",
       "    </tr>\n",
       "    <tr>\n",
       "      <th>4</th>\n",
       "      <td>53</td>\n",
       "    </tr>\n",
       "  </tbody>\n",
       "</table>\n",
       "</div>"
      ],
      "text/plain": [
       "   Age\n",
       "0   59\n",
       "1   44\n",
       "2   54\n",
       "3   48\n",
       "4   53"
      ]
     },
     "execution_count": 799,
     "metadata": {},
     "output_type": "execute_result"
    }
   ],
   "source": [
    "df_male_age_reject2.head()"
   ]
  },
  {
   "cell_type": "markdown",
   "metadata": {},
   "source": [
    "### Income\n",
    "Since this is also a rejection list, income won't be much high.\n",
    "age<30 will have low salary\n",
    "30-55 will have medium salary \n",
    "55-68 some medium and some high"
   ]
  },
  {
   "cell_type": "code",
   "execution_count": 800,
   "metadata": {},
   "outputs": [],
   "source": [
    "df_male_age_reject2[\"Income\"]=0"
   ]
  },
  {
   "cell_type": "code",
   "execution_count": 801,
   "metadata": {},
   "outputs": [],
   "source": [
    "for index,val in enumerate(df_male_age_accept[\"Age\"]):\n",
    "    if(val<=25):\n",
    "        df_male_age_reject2[\"Income\"][index]=round(np.random.randint(150000,300000)/1000)*1000\n",
    "    if(val>=26 and val<36):\n",
    "        df_male_age_reject2[\"Income\"][index]=round(np.random.randint(300000,700000)/1000)*1000\n",
    "    if(val>=36 and val<50):\n",
    "        df_male_age_reject2[\"Income\"][index]=round(np.random.randint(700000,1200000)/1000)*1000\n",
    "    if(val>=50 and val<57):\n",
    "        df_male_age_reject2[\"Income\"][index]=round(np.random.randint(1200000,1400000)/1000)*1000\n",
    "    if(val>=57 and val<=68):\n",
    "        df_male_age_reject2[\"Income\"][index]=round(np.random.randint(700000,1200000)/1000)*1000"
   ]
  },
  {
   "cell_type": "markdown",
   "metadata": {},
   "source": [
    "### Expences\n",
    "expences will be from high to medium i.e from 80-97% of the income"
   ]
  },
  {
   "cell_type": "code",
   "execution_count": 802,
   "metadata": {},
   "outputs": [],
   "source": [
    "df_male_age_reject2[\"Expences\"]=0"
   ]
  },
  {
   "cell_type": "code",
   "execution_count": 803,
   "metadata": {},
   "outputs": [],
   "source": [
    "for index,income in enumerate(df_male_age_reject2[\"Income\"]):\n",
    "    if(income>=150000 and income<300000):\n",
    "        saving=np.random.randint(3,7)\n",
    "        df_male_age_reject2[\"Expences\"][index]=((100-saving)*income)/100\n",
    "    if(income>=300000 and income<1200000):\n",
    "        saving=np.random.randint(12,15)\n",
    "        df_male_age_reject2[\"Expences\"][index]=((100-saving)*income)/100\n",
    "    if(income>=1200000 and income<=1400000):\n",
    "        saving=np.random.randint(15,18)\n",
    "        df_male_age_reject2[\"Expences\"][index]=((100-saving)*income)/100\n",
    "    "
   ]
  },
  {
   "cell_type": "code",
   "execution_count": 804,
   "metadata": {},
   "outputs": [
    {
     "data": {
      "text/html": [
       "<div>\n",
       "<style scoped>\n",
       "    .dataframe tbody tr th:only-of-type {\n",
       "        vertical-align: middle;\n",
       "    }\n",
       "\n",
       "    .dataframe tbody tr th {\n",
       "        vertical-align: top;\n",
       "    }\n",
       "\n",
       "    .dataframe thead th {\n",
       "        text-align: right;\n",
       "    }\n",
       "</style>\n",
       "<table border=\"1\" class=\"dataframe\">\n",
       "  <thead>\n",
       "    <tr style=\"text-align: right;\">\n",
       "      <th></th>\n",
       "      <th>Age</th>\n",
       "      <th>Income</th>\n",
       "      <th>Expences</th>\n",
       "    </tr>\n",
       "  </thead>\n",
       "  <tbody>\n",
       "    <tr>\n",
       "      <th>0</th>\n",
       "      <td>59</td>\n",
       "      <td>1214000</td>\n",
       "      <td>1019760</td>\n",
       "    </tr>\n",
       "    <tr>\n",
       "      <th>1</th>\n",
       "      <td>44</td>\n",
       "      <td>490000</td>\n",
       "      <td>431200</td>\n",
       "    </tr>\n",
       "    <tr>\n",
       "      <th>2</th>\n",
       "      <td>54</td>\n",
       "      <td>1337000</td>\n",
       "      <td>1123080</td>\n",
       "    </tr>\n",
       "    <tr>\n",
       "      <th>3</th>\n",
       "      <td>48</td>\n",
       "      <td>899000</td>\n",
       "      <td>773140</td>\n",
       "    </tr>\n",
       "    <tr>\n",
       "      <th>4</th>\n",
       "      <td>53</td>\n",
       "      <td>814000</td>\n",
       "      <td>716320</td>\n",
       "    </tr>\n",
       "  </tbody>\n",
       "</table>\n",
       "</div>"
      ],
      "text/plain": [
       "   Age   Income  Expences\n",
       "0   59  1214000   1019760\n",
       "1   44   490000    431200\n",
       "2   54  1337000   1123080\n",
       "3   48   899000    773140\n",
       "4   53   814000    716320"
      ]
     },
     "execution_count": 804,
     "metadata": {},
     "output_type": "execute_result"
    }
   ],
   "source": [
    "df_male_age_reject2.head()"
   ]
  },
  {
   "cell_type": "code",
   "execution_count": 805,
   "metadata": {},
   "outputs": [],
   "source": [
    "df_male_age_reject2[\"Gender\"]=\"M\""
   ]
  },
  {
   "cell_type": "code",
   "execution_count": 806,
   "metadata": {},
   "outputs": [],
   "source": [
    "df_male_age_reject2[\"Company\"]=\"Rank 3\""
   ]
  },
  {
   "cell_type": "code",
   "execution_count": 807,
   "metadata": {},
   "outputs": [
    {
     "name": "stderr",
     "output_type": "stream",
     "text": [
      "<ipython-input-807-a9de15a4ed95>:3: SettingWithCopyWarning: \n",
      "A value is trying to be set on a copy of a slice from a DataFrame\n",
      "\n",
      "See the caveats in the documentation: https://pandas.pydata.org/pandas-docs/stable/user_guide/indexing.html#returning-a-view-versus-a-copy\n",
      "  df_male_age_reject2[\"Company\"][index]=\"Rank 2\"\n",
      "<ipython-input-807-a9de15a4ed95>:5: SettingWithCopyWarning: \n",
      "A value is trying to be set on a copy of a slice from a DataFrame\n",
      "\n",
      "See the caveats in the documentation: https://pandas.pydata.org/pandas-docs/stable/user_guide/indexing.html#returning-a-view-versus-a-copy\n",
      "  df_male_age_reject2[\"Company\"][index]=\"Rank 3\"\n",
      "<ipython-input-807-a9de15a4ed95>:7: SettingWithCopyWarning: \n",
      "A value is trying to be set on a copy of a slice from a DataFrame\n",
      "\n",
      "See the caveats in the documentation: https://pandas.pydata.org/pandas-docs/stable/user_guide/indexing.html#returning-a-view-versus-a-copy\n",
      "  df_male_age_reject2[\"Company\"][index]=\"Rank 3\"\n"
     ]
    }
   ],
   "source": [
    "for index,income in enumerate(df_male_age_reject2[\"Income\"]):\n",
    "    if(income>=80000 and income<1400000):\n",
    "        df_male_age_reject2[\"Company\"][index]=\"Rank 2\"\n",
    "    if(income>=340000 and income<800000):\n",
    "        df_male_age_reject2[\"Company\"][index]=\"Rank 3\"\n",
    "    if(income>=150000 and income<340000):\n",
    "        df_male_age_reject2[\"Company\"][index]=\"Rank 3\""
   ]
  },
  {
   "cell_type": "code",
   "execution_count": 808,
   "metadata": {},
   "outputs": [
    {
     "data": {
      "text/plain": [
       "Counter({'Rank 2': 872, 'Rank 3': 628})"
      ]
     },
     "execution_count": 808,
     "metadata": {},
     "output_type": "execute_result"
    }
   ],
   "source": [
    "Counter(df_male_age_reject2[\"Company\"])"
   ]
  },
  {
   "cell_type": "code",
   "execution_count": 809,
   "metadata": {},
   "outputs": [],
   "source": [
    "df_male_age_reject2[\"Loan\"]=\"Rejected\""
   ]
  },
  {
   "cell_type": "code",
   "execution_count": 810,
   "metadata": {},
   "outputs": [
    {
     "data": {
      "text/html": [
       "<div>\n",
       "<style scoped>\n",
       "    .dataframe tbody tr th:only-of-type {\n",
       "        vertical-align: middle;\n",
       "    }\n",
       "\n",
       "    .dataframe tbody tr th {\n",
       "        vertical-align: top;\n",
       "    }\n",
       "\n",
       "    .dataframe thead th {\n",
       "        text-align: right;\n",
       "    }\n",
       "</style>\n",
       "<table border=\"1\" class=\"dataframe\">\n",
       "  <thead>\n",
       "    <tr style=\"text-align: right;\">\n",
       "      <th></th>\n",
       "      <th>Age</th>\n",
       "      <th>Income</th>\n",
       "      <th>Expences</th>\n",
       "      <th>Gender</th>\n",
       "      <th>Company</th>\n",
       "      <th>Loan</th>\n",
       "    </tr>\n",
       "  </thead>\n",
       "  <tbody>\n",
       "    <tr>\n",
       "      <th>0</th>\n",
       "      <td>59</td>\n",
       "      <td>1214000</td>\n",
       "      <td>1019760</td>\n",
       "      <td>M</td>\n",
       "      <td>Rank 2</td>\n",
       "      <td>Rejected</td>\n",
       "    </tr>\n",
       "    <tr>\n",
       "      <th>1</th>\n",
       "      <td>44</td>\n",
       "      <td>490000</td>\n",
       "      <td>431200</td>\n",
       "      <td>M</td>\n",
       "      <td>Rank 3</td>\n",
       "      <td>Rejected</td>\n",
       "    </tr>\n",
       "    <tr>\n",
       "      <th>2</th>\n",
       "      <td>54</td>\n",
       "      <td>1337000</td>\n",
       "      <td>1123080</td>\n",
       "      <td>M</td>\n",
       "      <td>Rank 2</td>\n",
       "      <td>Rejected</td>\n",
       "    </tr>\n",
       "    <tr>\n",
       "      <th>3</th>\n",
       "      <td>48</td>\n",
       "      <td>899000</td>\n",
       "      <td>773140</td>\n",
       "      <td>M</td>\n",
       "      <td>Rank 2</td>\n",
       "      <td>Rejected</td>\n",
       "    </tr>\n",
       "    <tr>\n",
       "      <th>4</th>\n",
       "      <td>53</td>\n",
       "      <td>814000</td>\n",
       "      <td>716320</td>\n",
       "      <td>M</td>\n",
       "      <td>Rank 2</td>\n",
       "      <td>Rejected</td>\n",
       "    </tr>\n",
       "  </tbody>\n",
       "</table>\n",
       "</div>"
      ],
      "text/plain": [
       "   Age   Income  Expences Gender Company      Loan\n",
       "0   59  1214000   1019760      M  Rank 2  Rejected\n",
       "1   44   490000    431200      M  Rank 3  Rejected\n",
       "2   54  1337000   1123080      M  Rank 2  Rejected\n",
       "3   48   899000    773140      M  Rank 2  Rejected\n",
       "4   53   814000    716320      M  Rank 2  Rejected"
      ]
     },
     "execution_count": 810,
     "metadata": {},
     "output_type": "execute_result"
    }
   ],
   "source": [
    "df_male_age_reject2.head()"
   ]
  },
  {
   "cell_type": "markdown",
   "metadata": {},
   "source": [
    "# DataFrame for female_age_accept"
   ]
  },
  {
   "cell_type": "code",
   "execution_count": 811,
   "metadata": {},
   "outputs": [
    {
     "data": {
      "text/html": [
       "<div>\n",
       "<style scoped>\n",
       "    .dataframe tbody tr th:only-of-type {\n",
       "        vertical-align: middle;\n",
       "    }\n",
       "\n",
       "    .dataframe tbody tr th {\n",
       "        vertical-align: top;\n",
       "    }\n",
       "\n",
       "    .dataframe thead th {\n",
       "        text-align: right;\n",
       "    }\n",
       "</style>\n",
       "<table border=\"1\" class=\"dataframe\">\n",
       "  <thead>\n",
       "    <tr style=\"text-align: right;\">\n",
       "      <th></th>\n",
       "      <th>Age</th>\n",
       "    </tr>\n",
       "  </thead>\n",
       "  <tbody>\n",
       "    <tr>\n",
       "      <th>0</th>\n",
       "      <td>31</td>\n",
       "    </tr>\n",
       "    <tr>\n",
       "      <th>1</th>\n",
       "      <td>41</td>\n",
       "    </tr>\n",
       "    <tr>\n",
       "      <th>2</th>\n",
       "      <td>40</td>\n",
       "    </tr>\n",
       "    <tr>\n",
       "      <th>3</th>\n",
       "      <td>36</td>\n",
       "    </tr>\n",
       "    <tr>\n",
       "      <th>4</th>\n",
       "      <td>39</td>\n",
       "    </tr>\n",
       "  </tbody>\n",
       "</table>\n",
       "</div>"
      ],
      "text/plain": [
       "   Age\n",
       "0   31\n",
       "1   41\n",
       "2   40\n",
       "3   36\n",
       "4   39"
      ]
     },
     "execution_count": 811,
     "metadata": {},
     "output_type": "execute_result"
    }
   ],
   "source": [
    "df_female_age_accept.head()"
   ]
  },
  {
   "cell_type": "markdown",
   "metadata": {},
   "source": [
    "### Income\n",
    "since this is for accepted loan, it will have medium to high salary"
   ]
  },
  {
   "cell_type": "code",
   "execution_count": 812,
   "metadata": {},
   "outputs": [],
   "source": [
    "df_female_age_accept[\"Income\"]=0"
   ]
  },
  {
   "cell_type": "code",
   "execution_count": 813,
   "metadata": {},
   "outputs": [],
   "source": [
    "\n",
    "for index,val in enumerate(df_female_age_accept[\"Age\"]):\n",
    "    if(val<=25):\n",
    "        df_female_age_accept[\"Income\"][index]=round(np.random.randint(300000,700000)/1000)*1000\n",
    "    if(val>=26 and val<32):\n",
    "        df_female_age_accept[\"Income\"][index]=round(np.random.randint(700000,1100000)/1000)*1000\n",
    "    if(val>=32 and val<38):\n",
    "        df_female_age_accept[\"Income\"][index]=round(np.random.randint(1100000,1600000)/1000)*1000\n",
    "    if(val>=38 and val<44):\n",
    "        df_female_age_accept[\"Income\"][index]=round(np.random.randint(1600000,2200000)/1000)*1000\n",
    "    if(val>=44 and val<50):\n",
    "        df_female_age_accept[\"Income\"][index]=round(np.random.randint(2200000,2700000)/1000)*1000\n",
    "    if(val>=50 and val<57):\n",
    "        df_female_age_accept[\"Income\"][index]=round(np.random.randint(2700000,3200000)/1000)*1000\n",
    "    if(val>=57 and val<62):\n",
    "        df_female_age_accept[\"Income\"][index]=round(np.random.randint(2200000,3000000)/1000)*1000\n",
    "    if(val>=62 and val<68):\n",
    "        df_female_age_accept[\"Income\"][index]=round(np.random.randint(1600000,2200000)/1000)*1000\n",
    "    if(val>=68 and val<=71):\n",
    "        df_female_age_accept[\"Income\"][index]=round(np.random.randint(700000,1600000)/1000)*1000\n",
    "    "
   ]
  },
  {
   "cell_type": "code",
   "execution_count": 814,
   "metadata": {},
   "outputs": [
    {
     "data": {
      "text/html": [
       "<div>\n",
       "<style scoped>\n",
       "    .dataframe tbody tr th:only-of-type {\n",
       "        vertical-align: middle;\n",
       "    }\n",
       "\n",
       "    .dataframe tbody tr th {\n",
       "        vertical-align: top;\n",
       "    }\n",
       "\n",
       "    .dataframe thead th {\n",
       "        text-align: right;\n",
       "    }\n",
       "</style>\n",
       "<table border=\"1\" class=\"dataframe\">\n",
       "  <thead>\n",
       "    <tr style=\"text-align: right;\">\n",
       "      <th></th>\n",
       "      <th>Age</th>\n",
       "      <th>Income</th>\n",
       "    </tr>\n",
       "  </thead>\n",
       "  <tbody>\n",
       "    <tr>\n",
       "      <th>0</th>\n",
       "      <td>31</td>\n",
       "      <td>1045000</td>\n",
       "    </tr>\n",
       "    <tr>\n",
       "      <th>1</th>\n",
       "      <td>41</td>\n",
       "      <td>2197000</td>\n",
       "    </tr>\n",
       "    <tr>\n",
       "      <th>2</th>\n",
       "      <td>40</td>\n",
       "      <td>1607000</td>\n",
       "    </tr>\n",
       "    <tr>\n",
       "      <th>3</th>\n",
       "      <td>36</td>\n",
       "      <td>1534000</td>\n",
       "    </tr>\n",
       "    <tr>\n",
       "      <th>4</th>\n",
       "      <td>39</td>\n",
       "      <td>1957000</td>\n",
       "    </tr>\n",
       "  </tbody>\n",
       "</table>\n",
       "</div>"
      ],
      "text/plain": [
       "   Age   Income\n",
       "0   31  1045000\n",
       "1   41  2197000\n",
       "2   40  1607000\n",
       "3   36  1534000\n",
       "4   39  1957000"
      ]
     },
     "execution_count": 814,
     "metadata": {},
     "output_type": "execute_result"
    }
   ],
   "source": [
    "df_female_age_accept.head()"
   ]
  },
  {
   "cell_type": "markdown",
   "metadata": {},
   "source": [
    "### Creation of expences\n",
    "expences  ranges from 85-60% of income which I belive is a decent and may be one of the reason for the acceptance for loan"
   ]
  },
  {
   "cell_type": "code",
   "execution_count": 815,
   "metadata": {},
   "outputs": [],
   "source": [
    "df_female_age_accept[\"Expences\"]=0"
   ]
  },
  {
   "cell_type": "code",
   "execution_count": 816,
   "metadata": {},
   "outputs": [],
   "source": [
    "for index,income in enumerate(df_female_age_accept[\"Income\"]):\n",
    "    if(income>=300000 and income<1100000):\n",
    "        saving=np.random.randint(15,20)\n",
    "        df_female_age_accept[\"Expences\"][index]=((100-saving)*income)/100\n",
    "    if(income>=1100000 and income<1800000):\n",
    "        saving=np.random.randint(21,25)\n",
    "        df_female_age_accept[\"Expences\"][index]=((100-saving)*income)/100\n",
    "    if(income>=1800000 and income<=3400000):\n",
    "        saving=np.random.randint(25,40)\n",
    "        df_female_age_accept[\"Expences\"][index]=((100-saving)*income)/100\n",
    "    "
   ]
  },
  {
   "cell_type": "code",
   "execution_count": 817,
   "metadata": {},
   "outputs": [
    {
     "data": {
      "text/html": [
       "<div>\n",
       "<style scoped>\n",
       "    .dataframe tbody tr th:only-of-type {\n",
       "        vertical-align: middle;\n",
       "    }\n",
       "\n",
       "    .dataframe tbody tr th {\n",
       "        vertical-align: top;\n",
       "    }\n",
       "\n",
       "    .dataframe thead th {\n",
       "        text-align: right;\n",
       "    }\n",
       "</style>\n",
       "<table border=\"1\" class=\"dataframe\">\n",
       "  <thead>\n",
       "    <tr style=\"text-align: right;\">\n",
       "      <th></th>\n",
       "      <th>Age</th>\n",
       "      <th>Income</th>\n",
       "      <th>Expences</th>\n",
       "    </tr>\n",
       "  </thead>\n",
       "  <tbody>\n",
       "    <tr>\n",
       "      <th>0</th>\n",
       "      <td>31</td>\n",
       "      <td>1045000</td>\n",
       "      <td>877800</td>\n",
       "    </tr>\n",
       "    <tr>\n",
       "      <th>1</th>\n",
       "      <td>41</td>\n",
       "      <td>2197000</td>\n",
       "      <td>1647750</td>\n",
       "    </tr>\n",
       "    <tr>\n",
       "      <th>2</th>\n",
       "      <td>40</td>\n",
       "      <td>1607000</td>\n",
       "      <td>1237390</td>\n",
       "    </tr>\n",
       "    <tr>\n",
       "      <th>3</th>\n",
       "      <td>36</td>\n",
       "      <td>1534000</td>\n",
       "      <td>1181180</td>\n",
       "    </tr>\n",
       "    <tr>\n",
       "      <th>4</th>\n",
       "      <td>39</td>\n",
       "      <td>1957000</td>\n",
       "      <td>1291620</td>\n",
       "    </tr>\n",
       "  </tbody>\n",
       "</table>\n",
       "</div>"
      ],
      "text/plain": [
       "   Age   Income  Expences\n",
       "0   31  1045000    877800\n",
       "1   41  2197000   1647750\n",
       "2   40  1607000   1237390\n",
       "3   36  1534000   1181180\n",
       "4   39  1957000   1291620"
      ]
     },
     "execution_count": 817,
     "metadata": {},
     "output_type": "execute_result"
    }
   ],
   "source": [
    "df_female_age_accept.head()"
   ]
  },
  {
   "cell_type": "markdown",
   "metadata": {},
   "source": [
    "### Gender"
   ]
  },
  {
   "cell_type": "code",
   "execution_count": 818,
   "metadata": {},
   "outputs": [],
   "source": [
    "df_female_age_accept[\"Gender\"]=\"F\""
   ]
  },
  {
   "cell_type": "markdown",
   "metadata": {},
   "source": [
    "### Company\n",
    " company will be mostly rank1 and rank2 company and few rank 3\n",
    " "
   ]
  },
  {
   "cell_type": "code",
   "execution_count": 819,
   "metadata": {},
   "outputs": [],
   "source": [
    "df_female_age_accept[\"Company\"]=\"Rank 1\""
   ]
  },
  {
   "cell_type": "code",
   "execution_count": 820,
   "metadata": {},
   "outputs": [
    {
     "name": "stderr",
     "output_type": "stream",
     "text": [
      "<ipython-input-820-3545e1a35b00>:3: SettingWithCopyWarning: \n",
      "A value is trying to be set on a copy of a slice from a DataFrame\n",
      "\n",
      "See the caveats in the documentation: https://pandas.pydata.org/pandas-docs/stable/user_guide/indexing.html#returning-a-view-versus-a-copy\n",
      "  df_female_age_accept[\"Company\"][index]=\"Rank 2\"\n",
      "<ipython-input-820-3545e1a35b00>:7: SettingWithCopyWarning: \n",
      "A value is trying to be set on a copy of a slice from a DataFrame\n",
      "\n",
      "See the caveats in the documentation: https://pandas.pydata.org/pandas-docs/stable/user_guide/indexing.html#returning-a-view-versus-a-copy\n",
      "  df_female_age_accept[\"Company\"][index]=\"Rank 1\"\n",
      "<ipython-input-820-3545e1a35b00>:5: SettingWithCopyWarning: \n",
      "A value is trying to be set on a copy of a slice from a DataFrame\n",
      "\n",
      "See the caveats in the documentation: https://pandas.pydata.org/pandas-docs/stable/user_guide/indexing.html#returning-a-view-versus-a-copy\n",
      "  df_female_age_accept[\"Company\"][index]=\"Rank 1\"\n"
     ]
    }
   ],
   "source": [
    "for index,income in enumerate(df_female_age_accept[\"Income\"]):\n",
    "    if(income>=300000 and income<1500000):\n",
    "        df_female_age_accept[\"Company\"][index]=\"Rank 2\"\n",
    "    if(income>=1500000 and income<1800000):\n",
    "        df_female_age_accept[\"Company\"][index]=\"Rank 1\"\n",
    "    if(income>=1800000 and income<=3400000):\n",
    "        df_female_age_accept[\"Company\"][index]=\"Rank 1\"\n",
    "    "
   ]
  },
  {
   "cell_type": "markdown",
   "metadata": {},
   "source": [
    "#### randomly adding 5% of total as Rank 3 company"
   ]
  },
  {
   "cell_type": "code",
   "execution_count": 821,
   "metadata": {},
   "outputs": [
    {
     "name": "stderr",
     "output_type": "stream",
     "text": [
      "<ipython-input-821-02a8c6b56079>:3: SettingWithCopyWarning: \n",
      "A value is trying to be set on a copy of a slice from a DataFrame\n",
      "\n",
      "See the caveats in the documentation: https://pandas.pydata.org/pandas-docs/stable/user_guide/indexing.html#returning-a-view-versus-a-copy\n",
      "  df_female_age_accept[\"Company\"][index]=\"Rank 3\"\n",
      "<ipython-input-821-02a8c6b56079>:6: SettingWithCopyWarning: \n",
      "A value is trying to be set on a copy of a slice from a DataFrame\n",
      "\n",
      "See the caveats in the documentation: https://pandas.pydata.org/pandas-docs/stable/user_guide/indexing.html#returning-a-view-versus-a-copy\n",
      "  df_female_age_accept[\"Company\"][index]=\"Rank 2\"\n"
     ]
    }
   ],
   "source": [
    "for i in range(int(df_female_age_accept.shape[0]*0.20)):\n",
    "    index=np.random.randint(0,df_female_age_accept.shape[0]-1)\n",
    "    df_female_age_accept[\"Company\"][index]=\"Rank 3\"\n",
    "for i in range(int(df_female_age_accept.shape[0]*0.3)):\n",
    "    index=np.random.randint(0,df_female_age_accept.shape[0]-1)\n",
    "    df_female_age_accept[\"Company\"][index]=\"Rank 2\"\n",
    "    "
   ]
  },
  {
   "cell_type": "code",
   "execution_count": 822,
   "metadata": {},
   "outputs": [
    {
     "data": {
      "text/html": [
       "<div>\n",
       "<style scoped>\n",
       "    .dataframe tbody tr th:only-of-type {\n",
       "        vertical-align: middle;\n",
       "    }\n",
       "\n",
       "    .dataframe tbody tr th {\n",
       "        vertical-align: top;\n",
       "    }\n",
       "\n",
       "    .dataframe thead th {\n",
       "        text-align: right;\n",
       "    }\n",
       "</style>\n",
       "<table border=\"1\" class=\"dataframe\">\n",
       "  <thead>\n",
       "    <tr style=\"text-align: right;\">\n",
       "      <th></th>\n",
       "      <th>Age</th>\n",
       "      <th>Income</th>\n",
       "      <th>Expences</th>\n",
       "      <th>Gender</th>\n",
       "      <th>Company</th>\n",
       "    </tr>\n",
       "  </thead>\n",
       "  <tbody>\n",
       "    <tr>\n",
       "      <th>0</th>\n",
       "      <td>31</td>\n",
       "      <td>1045000</td>\n",
       "      <td>877800</td>\n",
       "      <td>F</td>\n",
       "      <td>Rank 2</td>\n",
       "    </tr>\n",
       "    <tr>\n",
       "      <th>1</th>\n",
       "      <td>41</td>\n",
       "      <td>2197000</td>\n",
       "      <td>1647750</td>\n",
       "      <td>F</td>\n",
       "      <td>Rank 1</td>\n",
       "    </tr>\n",
       "    <tr>\n",
       "      <th>2</th>\n",
       "      <td>40</td>\n",
       "      <td>1607000</td>\n",
       "      <td>1237390</td>\n",
       "      <td>F</td>\n",
       "      <td>Rank 1</td>\n",
       "    </tr>\n",
       "    <tr>\n",
       "      <th>3</th>\n",
       "      <td>36</td>\n",
       "      <td>1534000</td>\n",
       "      <td>1181180</td>\n",
       "      <td>F</td>\n",
       "      <td>Rank 1</td>\n",
       "    </tr>\n",
       "    <tr>\n",
       "      <th>4</th>\n",
       "      <td>39</td>\n",
       "      <td>1957000</td>\n",
       "      <td>1291620</td>\n",
       "      <td>F</td>\n",
       "      <td>Rank 1</td>\n",
       "    </tr>\n",
       "  </tbody>\n",
       "</table>\n",
       "</div>"
      ],
      "text/plain": [
       "   Age   Income  Expences Gender Company\n",
       "0   31  1045000    877800      F  Rank 2\n",
       "1   41  2197000   1647750      F  Rank 1\n",
       "2   40  1607000   1237390      F  Rank 1\n",
       "3   36  1534000   1181180      F  Rank 1\n",
       "4   39  1957000   1291620      F  Rank 1"
      ]
     },
     "execution_count": 822,
     "metadata": {},
     "output_type": "execute_result"
    }
   ],
   "source": [
    "df_female_age_accept.head()"
   ]
  },
  {
   "cell_type": "markdown",
   "metadata": {},
   "source": [
    "### Loan"
   ]
  },
  {
   "cell_type": "code",
   "execution_count": 823,
   "metadata": {},
   "outputs": [],
   "source": [
    "df_female_age_accept[\"Loan\"]=\"Accepted\""
   ]
  },
  {
   "cell_type": "code",
   "execution_count": 824,
   "metadata": {},
   "outputs": [
    {
     "data": {
      "text/html": [
       "<div>\n",
       "<style scoped>\n",
       "    .dataframe tbody tr th:only-of-type {\n",
       "        vertical-align: middle;\n",
       "    }\n",
       "\n",
       "    .dataframe tbody tr th {\n",
       "        vertical-align: top;\n",
       "    }\n",
       "\n",
       "    .dataframe thead th {\n",
       "        text-align: right;\n",
       "    }\n",
       "</style>\n",
       "<table border=\"1\" class=\"dataframe\">\n",
       "  <thead>\n",
       "    <tr style=\"text-align: right;\">\n",
       "      <th></th>\n",
       "      <th>Age</th>\n",
       "      <th>Income</th>\n",
       "      <th>Expences</th>\n",
       "      <th>Gender</th>\n",
       "      <th>Company</th>\n",
       "      <th>Loan</th>\n",
       "    </tr>\n",
       "  </thead>\n",
       "  <tbody>\n",
       "    <tr>\n",
       "      <th>0</th>\n",
       "      <td>31</td>\n",
       "      <td>1045000</td>\n",
       "      <td>877800</td>\n",
       "      <td>F</td>\n",
       "      <td>Rank 2</td>\n",
       "      <td>Accepted</td>\n",
       "    </tr>\n",
       "    <tr>\n",
       "      <th>1</th>\n",
       "      <td>41</td>\n",
       "      <td>2197000</td>\n",
       "      <td>1647750</td>\n",
       "      <td>F</td>\n",
       "      <td>Rank 1</td>\n",
       "      <td>Accepted</td>\n",
       "    </tr>\n",
       "    <tr>\n",
       "      <th>2</th>\n",
       "      <td>40</td>\n",
       "      <td>1607000</td>\n",
       "      <td>1237390</td>\n",
       "      <td>F</td>\n",
       "      <td>Rank 1</td>\n",
       "      <td>Accepted</td>\n",
       "    </tr>\n",
       "    <tr>\n",
       "      <th>3</th>\n",
       "      <td>36</td>\n",
       "      <td>1534000</td>\n",
       "      <td>1181180</td>\n",
       "      <td>F</td>\n",
       "      <td>Rank 1</td>\n",
       "      <td>Accepted</td>\n",
       "    </tr>\n",
       "    <tr>\n",
       "      <th>4</th>\n",
       "      <td>39</td>\n",
       "      <td>1957000</td>\n",
       "      <td>1291620</td>\n",
       "      <td>F</td>\n",
       "      <td>Rank 1</td>\n",
       "      <td>Accepted</td>\n",
       "    </tr>\n",
       "  </tbody>\n",
       "</table>\n",
       "</div>"
      ],
      "text/plain": [
       "   Age   Income  Expences Gender Company      Loan\n",
       "0   31  1045000    877800      F  Rank 2  Accepted\n",
       "1   41  2197000   1647750      F  Rank 1  Accepted\n",
       "2   40  1607000   1237390      F  Rank 1  Accepted\n",
       "3   36  1534000   1181180      F  Rank 1  Accepted\n",
       "4   39  1957000   1291620      F  Rank 1  Accepted"
      ]
     },
     "execution_count": 824,
     "metadata": {},
     "output_type": "execute_result"
    }
   ],
   "source": [
    "df_female_age_accept.head()"
   ]
  },
  {
   "cell_type": "markdown",
   "metadata": {},
   "source": [
    "# Creation for female_age_reject"
   ]
  },
  {
   "cell_type": "code",
   "execution_count": 825,
   "metadata": {},
   "outputs": [
    {
     "data": {
      "text/html": [
       "<div>\n",
       "<style scoped>\n",
       "    .dataframe tbody tr th:only-of-type {\n",
       "        vertical-align: middle;\n",
       "    }\n",
       "\n",
       "    .dataframe tbody tr th {\n",
       "        vertical-align: top;\n",
       "    }\n",
       "\n",
       "    .dataframe thead th {\n",
       "        text-align: right;\n",
       "    }\n",
       "</style>\n",
       "<table border=\"1\" class=\"dataframe\">\n",
       "  <thead>\n",
       "    <tr style=\"text-align: right;\">\n",
       "      <th></th>\n",
       "      <th>Age</th>\n",
       "    </tr>\n",
       "  </thead>\n",
       "  <tbody>\n",
       "    <tr>\n",
       "      <th>0</th>\n",
       "      <td>65</td>\n",
       "    </tr>\n",
       "    <tr>\n",
       "      <th>1</th>\n",
       "      <td>65</td>\n",
       "    </tr>\n",
       "    <tr>\n",
       "      <th>2</th>\n",
       "      <td>65</td>\n",
       "    </tr>\n",
       "    <tr>\n",
       "      <th>3</th>\n",
       "      <td>66</td>\n",
       "    </tr>\n",
       "    <tr>\n",
       "      <th>4</th>\n",
       "      <td>70</td>\n",
       "    </tr>\n",
       "  </tbody>\n",
       "</table>\n",
       "</div>"
      ],
      "text/plain": [
       "   Age\n",
       "0   65\n",
       "1   65\n",
       "2   65\n",
       "3   66\n",
       "4   70"
      ]
     },
     "execution_count": 825,
     "metadata": {},
     "output_type": "execute_result"
    }
   ],
   "source": [
    "df_female_age_reject.head()"
   ]
  },
  {
   "cell_type": "markdown",
   "metadata": {},
   "source": [
    "### Income"
   ]
  },
  {
   "cell_type": "code",
   "execution_count": 826,
   "metadata": {},
   "outputs": [],
   "source": [
    "df_female_age_reject[\"Income\"]=0"
   ]
  },
  {
   "cell_type": "code",
   "execution_count": 827,
   "metadata": {},
   "outputs": [],
   "source": [
    "for index in range(df_male_age_reject.shape[0]):\n",
    "    df_female_age_reject[\"Income\"][index]=round(np.random.randint(300000,1200000)/1000)*1000"
   ]
  },
  {
   "cell_type": "code",
   "execution_count": 828,
   "metadata": {},
   "outputs": [
    {
     "data": {
      "text/html": [
       "<div>\n",
       "<style scoped>\n",
       "    .dataframe tbody tr th:only-of-type {\n",
       "        vertical-align: middle;\n",
       "    }\n",
       "\n",
       "    .dataframe tbody tr th {\n",
       "        vertical-align: top;\n",
       "    }\n",
       "\n",
       "    .dataframe thead th {\n",
       "        text-align: right;\n",
       "    }\n",
       "</style>\n",
       "<table border=\"1\" class=\"dataframe\">\n",
       "  <thead>\n",
       "    <tr style=\"text-align: right;\">\n",
       "      <th></th>\n",
       "      <th>Age</th>\n",
       "      <th>Income</th>\n",
       "    </tr>\n",
       "  </thead>\n",
       "  <tbody>\n",
       "    <tr>\n",
       "      <th>0</th>\n",
       "      <td>65</td>\n",
       "      <td>315000</td>\n",
       "    </tr>\n",
       "    <tr>\n",
       "      <th>1</th>\n",
       "      <td>65</td>\n",
       "      <td>387000</td>\n",
       "    </tr>\n",
       "    <tr>\n",
       "      <th>2</th>\n",
       "      <td>65</td>\n",
       "      <td>658000</td>\n",
       "    </tr>\n",
       "    <tr>\n",
       "      <th>3</th>\n",
       "      <td>66</td>\n",
       "      <td>306000</td>\n",
       "    </tr>\n",
       "    <tr>\n",
       "      <th>4</th>\n",
       "      <td>70</td>\n",
       "      <td>980000</td>\n",
       "    </tr>\n",
       "  </tbody>\n",
       "</table>\n",
       "</div>"
      ],
      "text/plain": [
       "   Age  Income\n",
       "0   65  315000\n",
       "1   65  387000\n",
       "2   65  658000\n",
       "3   66  306000\n",
       "4   70  980000"
      ]
     },
     "execution_count": 828,
     "metadata": {},
     "output_type": "execute_result"
    }
   ],
   "source": [
    "df_female_age_reject.head()"
   ]
  },
  {
   "cell_type": "markdown",
   "metadata": {},
   "source": [
    "### Creation of Expences\n",
    "Idea here is to give high expences which also contribute for the rejection of loan   \n",
    "I am considering 85-95% of expenditure of income."
   ]
  },
  {
   "cell_type": "code",
   "execution_count": 829,
   "metadata": {},
   "outputs": [],
   "source": [
    "df_female_age_reject[\"Expences\"]=0"
   ]
  },
  {
   "cell_type": "code",
   "execution_count": 830,
   "metadata": {},
   "outputs": [],
   "source": [
    "for index,income in enumerate(df_female_age_reject[\"Income\"]):\n",
    "    saving=np.random.randint(5,15)\n",
    "    df_female_age_reject[\"Expences\"][index]=((100-saving)*income)/100\n",
    "    \n",
    "    "
   ]
  },
  {
   "cell_type": "code",
   "execution_count": 831,
   "metadata": {},
   "outputs": [
    {
     "data": {
      "text/html": [
       "<div>\n",
       "<style scoped>\n",
       "    .dataframe tbody tr th:only-of-type {\n",
       "        vertical-align: middle;\n",
       "    }\n",
       "\n",
       "    .dataframe tbody tr th {\n",
       "        vertical-align: top;\n",
       "    }\n",
       "\n",
       "    .dataframe thead th {\n",
       "        text-align: right;\n",
       "    }\n",
       "</style>\n",
       "<table border=\"1\" class=\"dataframe\">\n",
       "  <thead>\n",
       "    <tr style=\"text-align: right;\">\n",
       "      <th></th>\n",
       "      <th>Age</th>\n",
       "      <th>Income</th>\n",
       "      <th>Expences</th>\n",
       "    </tr>\n",
       "  </thead>\n",
       "  <tbody>\n",
       "    <tr>\n",
       "      <th>0</th>\n",
       "      <td>65</td>\n",
       "      <td>315000</td>\n",
       "      <td>296100</td>\n",
       "    </tr>\n",
       "    <tr>\n",
       "      <th>1</th>\n",
       "      <td>65</td>\n",
       "      <td>387000</td>\n",
       "      <td>363780</td>\n",
       "    </tr>\n",
       "    <tr>\n",
       "      <th>2</th>\n",
       "      <td>65</td>\n",
       "      <td>658000</td>\n",
       "      <td>572460</td>\n",
       "    </tr>\n",
       "    <tr>\n",
       "      <th>3</th>\n",
       "      <td>66</td>\n",
       "      <td>306000</td>\n",
       "      <td>266220</td>\n",
       "    </tr>\n",
       "    <tr>\n",
       "      <th>4</th>\n",
       "      <td>70</td>\n",
       "      <td>980000</td>\n",
       "      <td>842800</td>\n",
       "    </tr>\n",
       "  </tbody>\n",
       "</table>\n",
       "</div>"
      ],
      "text/plain": [
       "   Age  Income  Expences\n",
       "0   65  315000    296100\n",
       "1   65  387000    363780\n",
       "2   65  658000    572460\n",
       "3   66  306000    266220\n",
       "4   70  980000    842800"
      ]
     },
     "execution_count": 831,
     "metadata": {},
     "output_type": "execute_result"
    }
   ],
   "source": [
    "df_female_age_reject.head()"
   ]
  },
  {
   "cell_type": "code",
   "execution_count": 832,
   "metadata": {},
   "outputs": [],
   "source": [
    "df_female_age_reject[\"Gender\"]=\"F\""
   ]
  },
  {
   "cell_type": "code",
   "execution_count": 833,
   "metadata": {},
   "outputs": [
    {
     "data": {
      "text/html": [
       "<div>\n",
       "<style scoped>\n",
       "    .dataframe tbody tr th:only-of-type {\n",
       "        vertical-align: middle;\n",
       "    }\n",
       "\n",
       "    .dataframe tbody tr th {\n",
       "        vertical-align: top;\n",
       "    }\n",
       "\n",
       "    .dataframe thead th {\n",
       "        text-align: right;\n",
       "    }\n",
       "</style>\n",
       "<table border=\"1\" class=\"dataframe\">\n",
       "  <thead>\n",
       "    <tr style=\"text-align: right;\">\n",
       "      <th></th>\n",
       "      <th>Age</th>\n",
       "      <th>Income</th>\n",
       "      <th>Expences</th>\n",
       "      <th>Gender</th>\n",
       "    </tr>\n",
       "  </thead>\n",
       "  <tbody>\n",
       "    <tr>\n",
       "      <th>0</th>\n",
       "      <td>65</td>\n",
       "      <td>315000</td>\n",
       "      <td>296100</td>\n",
       "      <td>F</td>\n",
       "    </tr>\n",
       "    <tr>\n",
       "      <th>1</th>\n",
       "      <td>65</td>\n",
       "      <td>387000</td>\n",
       "      <td>363780</td>\n",
       "      <td>F</td>\n",
       "    </tr>\n",
       "    <tr>\n",
       "      <th>2</th>\n",
       "      <td>65</td>\n",
       "      <td>658000</td>\n",
       "      <td>572460</td>\n",
       "      <td>F</td>\n",
       "    </tr>\n",
       "    <tr>\n",
       "      <th>3</th>\n",
       "      <td>66</td>\n",
       "      <td>306000</td>\n",
       "      <td>266220</td>\n",
       "      <td>F</td>\n",
       "    </tr>\n",
       "    <tr>\n",
       "      <th>4</th>\n",
       "      <td>70</td>\n",
       "      <td>980000</td>\n",
       "      <td>842800</td>\n",
       "      <td>F</td>\n",
       "    </tr>\n",
       "  </tbody>\n",
       "</table>\n",
       "</div>"
      ],
      "text/plain": [
       "   Age  Income  Expences Gender\n",
       "0   65  315000    296100      F\n",
       "1   65  387000    363780      F\n",
       "2   65  658000    572460      F\n",
       "3   66  306000    266220      F\n",
       "4   70  980000    842800      F"
      ]
     },
     "execution_count": 833,
     "metadata": {},
     "output_type": "execute_result"
    }
   ],
   "source": [
    "df_female_age_reject.head()\n"
   ]
  },
  {
   "cell_type": "code",
   "execution_count": null,
   "metadata": {},
   "outputs": [],
   "source": []
  },
  {
   "cell_type": "markdown",
   "metadata": {},
   "source": [
    "### Company\n",
    "most of the company is rank3 and those people with more than 6 lakh will have ranke 2 company and few rank 1"
   ]
  },
  {
   "cell_type": "code",
   "execution_count": 834,
   "metadata": {},
   "outputs": [],
   "source": [
    "df_female_age_reject[\"Company\"]=\"Rank 3\""
   ]
  },
  {
   "cell_type": "code",
   "execution_count": 835,
   "metadata": {},
   "outputs": [
    {
     "name": "stderr",
     "output_type": "stream",
     "text": [
      "<ipython-input-835-a6cd691224bb>:3: SettingWithCopyWarning: \n",
      "A value is trying to be set on a copy of a slice from a DataFrame\n",
      "\n",
      "See the caveats in the documentation: https://pandas.pydata.org/pandas-docs/stable/user_guide/indexing.html#returning-a-view-versus-a-copy\n",
      "  df_female_age_reject[\"Company\"][index]=\"Rank 2\"\n"
     ]
    }
   ],
   "source": [
    "for index,income in enumerate(df_female_age_reject[\"Income\"]):\n",
    "    if income>1000000:\n",
    "        df_female_age_reject[\"Company\"][index]=\"Rank 2\""
   ]
  },
  {
   "cell_type": "code",
   "execution_count": 836,
   "metadata": {},
   "outputs": [
    {
     "data": {
      "text/html": [
       "<div>\n",
       "<style scoped>\n",
       "    .dataframe tbody tr th:only-of-type {\n",
       "        vertical-align: middle;\n",
       "    }\n",
       "\n",
       "    .dataframe tbody tr th {\n",
       "        vertical-align: top;\n",
       "    }\n",
       "\n",
       "    .dataframe thead th {\n",
       "        text-align: right;\n",
       "    }\n",
       "</style>\n",
       "<table border=\"1\" class=\"dataframe\">\n",
       "  <thead>\n",
       "    <tr style=\"text-align: right;\">\n",
       "      <th></th>\n",
       "      <th>Age</th>\n",
       "      <th>Income</th>\n",
       "      <th>Expences</th>\n",
       "      <th>Gender</th>\n",
       "      <th>Company</th>\n",
       "    </tr>\n",
       "  </thead>\n",
       "  <tbody>\n",
       "    <tr>\n",
       "      <th>0</th>\n",
       "      <td>65</td>\n",
       "      <td>315000</td>\n",
       "      <td>296100</td>\n",
       "      <td>F</td>\n",
       "      <td>Rank 3</td>\n",
       "    </tr>\n",
       "    <tr>\n",
       "      <th>1</th>\n",
       "      <td>65</td>\n",
       "      <td>387000</td>\n",
       "      <td>363780</td>\n",
       "      <td>F</td>\n",
       "      <td>Rank 3</td>\n",
       "    </tr>\n",
       "    <tr>\n",
       "      <th>2</th>\n",
       "      <td>65</td>\n",
       "      <td>658000</td>\n",
       "      <td>572460</td>\n",
       "      <td>F</td>\n",
       "      <td>Rank 3</td>\n",
       "    </tr>\n",
       "    <tr>\n",
       "      <th>3</th>\n",
       "      <td>66</td>\n",
       "      <td>306000</td>\n",
       "      <td>266220</td>\n",
       "      <td>F</td>\n",
       "      <td>Rank 3</td>\n",
       "    </tr>\n",
       "    <tr>\n",
       "      <th>4</th>\n",
       "      <td>70</td>\n",
       "      <td>980000</td>\n",
       "      <td>842800</td>\n",
       "      <td>F</td>\n",
       "      <td>Rank 3</td>\n",
       "    </tr>\n",
       "  </tbody>\n",
       "</table>\n",
       "</div>"
      ],
      "text/plain": [
       "   Age  Income  Expences Gender Company\n",
       "0   65  315000    296100      F  Rank 3\n",
       "1   65  387000    363780      F  Rank 3\n",
       "2   65  658000    572460      F  Rank 3\n",
       "3   66  306000    266220      F  Rank 3\n",
       "4   70  980000    842800      F  Rank 3"
      ]
     },
     "execution_count": 836,
     "metadata": {},
     "output_type": "execute_result"
    }
   ],
   "source": [
    "df_female_age_reject.head()\n"
   ]
  },
  {
   "cell_type": "markdown",
   "metadata": {},
   "source": [
    "#### randomly adding 5% of total as Rank 1 company"
   ]
  },
  {
   "cell_type": "code",
   "execution_count": 837,
   "metadata": {},
   "outputs": [
    {
     "name": "stderr",
     "output_type": "stream",
     "text": [
      "<ipython-input-837-f9f349e087b2>:3: SettingWithCopyWarning: \n",
      "A value is trying to be set on a copy of a slice from a DataFrame\n",
      "\n",
      "See the caveats in the documentation: https://pandas.pydata.org/pandas-docs/stable/user_guide/indexing.html#returning-a-view-versus-a-copy\n",
      "  df_female_age_accept[\"Company\"][index]=\"Rank 1\"\n"
     ]
    }
   ],
   "source": [
    "for i in range(int(df_female_age_reject.shape[0]*0.15)):\n",
    "    index=np.random.randint(0,df_female_age_reject.shape[0]-1)\n",
    "    df_female_age_accept[\"Company\"][index]=\"Rank 1\"\n",
    "    "
   ]
  },
  {
   "cell_type": "code",
   "execution_count": 838,
   "metadata": {},
   "outputs": [
    {
     "data": {
      "text/html": [
       "<div>\n",
       "<style scoped>\n",
       "    .dataframe tbody tr th:only-of-type {\n",
       "        vertical-align: middle;\n",
       "    }\n",
       "\n",
       "    .dataframe tbody tr th {\n",
       "        vertical-align: top;\n",
       "    }\n",
       "\n",
       "    .dataframe thead th {\n",
       "        text-align: right;\n",
       "    }\n",
       "</style>\n",
       "<table border=\"1\" class=\"dataframe\">\n",
       "  <thead>\n",
       "    <tr style=\"text-align: right;\">\n",
       "      <th></th>\n",
       "      <th>Age</th>\n",
       "      <th>Income</th>\n",
       "      <th>Expences</th>\n",
       "      <th>Gender</th>\n",
       "      <th>Company</th>\n",
       "    </tr>\n",
       "  </thead>\n",
       "  <tbody>\n",
       "    <tr>\n",
       "      <th>0</th>\n",
       "      <td>65</td>\n",
       "      <td>315000</td>\n",
       "      <td>296100</td>\n",
       "      <td>F</td>\n",
       "      <td>Rank 3</td>\n",
       "    </tr>\n",
       "    <tr>\n",
       "      <th>1</th>\n",
       "      <td>65</td>\n",
       "      <td>387000</td>\n",
       "      <td>363780</td>\n",
       "      <td>F</td>\n",
       "      <td>Rank 3</td>\n",
       "    </tr>\n",
       "    <tr>\n",
       "      <th>2</th>\n",
       "      <td>65</td>\n",
       "      <td>658000</td>\n",
       "      <td>572460</td>\n",
       "      <td>F</td>\n",
       "      <td>Rank 3</td>\n",
       "    </tr>\n",
       "    <tr>\n",
       "      <th>3</th>\n",
       "      <td>66</td>\n",
       "      <td>306000</td>\n",
       "      <td>266220</td>\n",
       "      <td>F</td>\n",
       "      <td>Rank 3</td>\n",
       "    </tr>\n",
       "    <tr>\n",
       "      <th>4</th>\n",
       "      <td>70</td>\n",
       "      <td>980000</td>\n",
       "      <td>842800</td>\n",
       "      <td>F</td>\n",
       "      <td>Rank 3</td>\n",
       "    </tr>\n",
       "  </tbody>\n",
       "</table>\n",
       "</div>"
      ],
      "text/plain": [
       "   Age  Income  Expences Gender Company\n",
       "0   65  315000    296100      F  Rank 3\n",
       "1   65  387000    363780      F  Rank 3\n",
       "2   65  658000    572460      F  Rank 3\n",
       "3   66  306000    266220      F  Rank 3\n",
       "4   70  980000    842800      F  Rank 3"
      ]
     },
     "execution_count": 838,
     "metadata": {},
     "output_type": "execute_result"
    }
   ],
   "source": [
    "df_female_age_reject.head()"
   ]
  },
  {
   "cell_type": "code",
   "execution_count": 839,
   "metadata": {},
   "outputs": [],
   "source": [
    "df_female_age_reject[\"Loan\"]=\"Rejected\""
   ]
  },
  {
   "cell_type": "code",
   "execution_count": 840,
   "metadata": {},
   "outputs": [
    {
     "data": {
      "text/html": [
       "<div>\n",
       "<style scoped>\n",
       "    .dataframe tbody tr th:only-of-type {\n",
       "        vertical-align: middle;\n",
       "    }\n",
       "\n",
       "    .dataframe tbody tr th {\n",
       "        vertical-align: top;\n",
       "    }\n",
       "\n",
       "    .dataframe thead th {\n",
       "        text-align: right;\n",
       "    }\n",
       "</style>\n",
       "<table border=\"1\" class=\"dataframe\">\n",
       "  <thead>\n",
       "    <tr style=\"text-align: right;\">\n",
       "      <th></th>\n",
       "      <th>Age</th>\n",
       "      <th>Income</th>\n",
       "      <th>Expences</th>\n",
       "      <th>Gender</th>\n",
       "      <th>Company</th>\n",
       "      <th>Loan</th>\n",
       "    </tr>\n",
       "  </thead>\n",
       "  <tbody>\n",
       "    <tr>\n",
       "      <th>0</th>\n",
       "      <td>65</td>\n",
       "      <td>315000</td>\n",
       "      <td>296100</td>\n",
       "      <td>F</td>\n",
       "      <td>Rank 3</td>\n",
       "      <td>Rejected</td>\n",
       "    </tr>\n",
       "    <tr>\n",
       "      <th>1</th>\n",
       "      <td>65</td>\n",
       "      <td>387000</td>\n",
       "      <td>363780</td>\n",
       "      <td>F</td>\n",
       "      <td>Rank 3</td>\n",
       "      <td>Rejected</td>\n",
       "    </tr>\n",
       "    <tr>\n",
       "      <th>2</th>\n",
       "      <td>65</td>\n",
       "      <td>658000</td>\n",
       "      <td>572460</td>\n",
       "      <td>F</td>\n",
       "      <td>Rank 3</td>\n",
       "      <td>Rejected</td>\n",
       "    </tr>\n",
       "    <tr>\n",
       "      <th>3</th>\n",
       "      <td>66</td>\n",
       "      <td>306000</td>\n",
       "      <td>266220</td>\n",
       "      <td>F</td>\n",
       "      <td>Rank 3</td>\n",
       "      <td>Rejected</td>\n",
       "    </tr>\n",
       "    <tr>\n",
       "      <th>4</th>\n",
       "      <td>70</td>\n",
       "      <td>980000</td>\n",
       "      <td>842800</td>\n",
       "      <td>F</td>\n",
       "      <td>Rank 3</td>\n",
       "      <td>Rejected</td>\n",
       "    </tr>\n",
       "  </tbody>\n",
       "</table>\n",
       "</div>"
      ],
      "text/plain": [
       "   Age  Income  Expences Gender Company      Loan\n",
       "0   65  315000    296100      F  Rank 3  Rejected\n",
       "1   65  387000    363780      F  Rank 3  Rejected\n",
       "2   65  658000    572460      F  Rank 3  Rejected\n",
       "3   66  306000    266220      F  Rank 3  Rejected\n",
       "4   70  980000    842800      F  Rank 3  Rejected"
      ]
     },
     "execution_count": 840,
     "metadata": {},
     "output_type": "execute_result"
    }
   ],
   "source": [
    "df_female_age_reject.head()"
   ]
  },
  {
   "cell_type": "markdown",
   "metadata": {},
   "source": [
    "# Creation for female_age_reject2"
   ]
  },
  {
   "cell_type": "code",
   "execution_count": 841,
   "metadata": {},
   "outputs": [
    {
     "data": {
      "text/html": [
       "<div>\n",
       "<style scoped>\n",
       "    .dataframe tbody tr th:only-of-type {\n",
       "        vertical-align: middle;\n",
       "    }\n",
       "\n",
       "    .dataframe tbody tr th {\n",
       "        vertical-align: top;\n",
       "    }\n",
       "\n",
       "    .dataframe thead th {\n",
       "        text-align: right;\n",
       "    }\n",
       "</style>\n",
       "<table border=\"1\" class=\"dataframe\">\n",
       "  <thead>\n",
       "    <tr style=\"text-align: right;\">\n",
       "      <th></th>\n",
       "      <th>Age</th>\n",
       "    </tr>\n",
       "  </thead>\n",
       "  <tbody>\n",
       "    <tr>\n",
       "      <th>count</th>\n",
       "      <td>1500.000000</td>\n",
       "    </tr>\n",
       "    <tr>\n",
       "      <th>mean</th>\n",
       "      <td>47.140000</td>\n",
       "    </tr>\n",
       "    <tr>\n",
       "      <th>std</th>\n",
       "      <td>13.320361</td>\n",
       "    </tr>\n",
       "    <tr>\n",
       "      <th>min</th>\n",
       "      <td>25.000000</td>\n",
       "    </tr>\n",
       "    <tr>\n",
       "      <th>25%</th>\n",
       "      <td>36.000000</td>\n",
       "    </tr>\n",
       "    <tr>\n",
       "      <th>50%</th>\n",
       "      <td>47.000000</td>\n",
       "    </tr>\n",
       "    <tr>\n",
       "      <th>75%</th>\n",
       "      <td>59.000000</td>\n",
       "    </tr>\n",
       "    <tr>\n",
       "      <th>max</th>\n",
       "      <td>70.000000</td>\n",
       "    </tr>\n",
       "  </tbody>\n",
       "</table>\n",
       "</div>"
      ],
      "text/plain": [
       "               Age\n",
       "count  1500.000000\n",
       "mean     47.140000\n",
       "std      13.320361\n",
       "min      25.000000\n",
       "25%      36.000000\n",
       "50%      47.000000\n",
       "75%      59.000000\n",
       "max      70.000000"
      ]
     },
     "execution_count": 841,
     "metadata": {},
     "output_type": "execute_result"
    }
   ],
   "source": [
    "df_female_age_reject2.describe()"
   ]
  },
  {
   "cell_type": "markdown",
   "metadata": {},
   "source": [
    "### imcomoe"
   ]
  },
  {
   "cell_type": "code",
   "execution_count": 842,
   "metadata": {},
   "outputs": [],
   "source": [
    "df_female_age_reject2[\"Income\"]=0"
   ]
  },
  {
   "cell_type": "code",
   "execution_count": 843,
   "metadata": {},
   "outputs": [],
   "source": [
    "for index,val in enumerate(df_female_age_reject2[\"Age\"]):\n",
    "    if(val<=25):\n",
    "        df_female_age_reject2[\"Income\"][index]=round(np.random.randint(150000,300000)/1000)*1000\n",
    "    if(val>=26 and val<36):\n",
    "        df_female_age_reject2[\"Income\"][index]=round(np.random.randint(300000,600000)/1000)*1000\n",
    "    if(val>=36 and val<50):\n",
    "        df_female_age_reject2[\"Income\"][index]=round(np.random.randint(600000,1100000)/1000)*1000\n",
    "    if(val>=50 and val<57):\n",
    "        df_female_age_reject2[\"Income\"][index]=round(np.random.randint(1100000,1300000)/1000)*1000\n",
    "    if(val>=57 and val<=70):\n",
    "        df_female_age_reject2[\"Income\"][index]=round(np.random.randint(700000,1100000)/1000)*1000"
   ]
  },
  {
   "cell_type": "code",
   "execution_count": 844,
   "metadata": {},
   "outputs": [
    {
     "data": {
      "text/html": [
       "<div>\n",
       "<style scoped>\n",
       "    .dataframe tbody tr th:only-of-type {\n",
       "        vertical-align: middle;\n",
       "    }\n",
       "\n",
       "    .dataframe tbody tr th {\n",
       "        vertical-align: top;\n",
       "    }\n",
       "\n",
       "    .dataframe thead th {\n",
       "        text-align: right;\n",
       "    }\n",
       "</style>\n",
       "<table border=\"1\" class=\"dataframe\">\n",
       "  <thead>\n",
       "    <tr style=\"text-align: right;\">\n",
       "      <th></th>\n",
       "      <th>Age</th>\n",
       "      <th>Income</th>\n",
       "    </tr>\n",
       "  </thead>\n",
       "  <tbody>\n",
       "    <tr>\n",
       "      <th>0</th>\n",
       "      <td>62</td>\n",
       "      <td>829000</td>\n",
       "    </tr>\n",
       "    <tr>\n",
       "      <th>1</th>\n",
       "      <td>29</td>\n",
       "      <td>529000</td>\n",
       "    </tr>\n",
       "    <tr>\n",
       "      <th>2</th>\n",
       "      <td>45</td>\n",
       "      <td>881000</td>\n",
       "    </tr>\n",
       "    <tr>\n",
       "      <th>3</th>\n",
       "      <td>62</td>\n",
       "      <td>814000</td>\n",
       "    </tr>\n",
       "    <tr>\n",
       "      <th>4</th>\n",
       "      <td>62</td>\n",
       "      <td>723000</td>\n",
       "    </tr>\n",
       "  </tbody>\n",
       "</table>\n",
       "</div>"
      ],
      "text/plain": [
       "   Age  Income\n",
       "0   62  829000\n",
       "1   29  529000\n",
       "2   45  881000\n",
       "3   62  814000\n",
       "4   62  723000"
      ]
     },
     "execution_count": 844,
     "metadata": {},
     "output_type": "execute_result"
    }
   ],
   "source": [
    "df_female_age_reject2.head()"
   ]
  },
  {
   "cell_type": "markdown",
   "metadata": {},
   "source": [
    "### Expences"
   ]
  },
  {
   "cell_type": "code",
   "execution_count": 845,
   "metadata": {},
   "outputs": [],
   "source": [
    "df_female_age_reject2[\"Expences\"]=0"
   ]
  },
  {
   "cell_type": "code",
   "execution_count": 846,
   "metadata": {},
   "outputs": [],
   "source": [
    "for index,income in enumerate(df_male_age_reject2[\"Income\"]):\n",
    "    if(income>=150000 and income<300000):\n",
    "        saving=np.random.randint(3,7)\n",
    "        df_female_age_reject2[\"Expences\"][index]=((100-saving)*income)/100\n",
    "    if(income>=300000 and income<1200000):\n",
    "        saving=np.random.randint(12,15)\n",
    "        df_female_age_reject2[\"Expences\"][index]=((100-saving)*income)/100\n",
    "    if(income>=1200000 and income<=1400000):\n",
    "        saving=np.random.randint(15,18)\n",
    "        df_female_age_reject2[\"Expences\"][index]=((100-saving)*income)/100\n",
    "    "
   ]
  },
  {
   "cell_type": "markdown",
   "metadata": {},
   "source": [
    "###  Gender"
   ]
  },
  {
   "cell_type": "code",
   "execution_count": 847,
   "metadata": {},
   "outputs": [],
   "source": [
    "df_female_age_reject2[\"Gender\"]=\"F\""
   ]
  },
  {
   "cell_type": "code",
   "execution_count": 848,
   "metadata": {},
   "outputs": [
    {
     "data": {
      "text/html": [
       "<div>\n",
       "<style scoped>\n",
       "    .dataframe tbody tr th:only-of-type {\n",
       "        vertical-align: middle;\n",
       "    }\n",
       "\n",
       "    .dataframe tbody tr th {\n",
       "        vertical-align: top;\n",
       "    }\n",
       "\n",
       "    .dataframe thead th {\n",
       "        text-align: right;\n",
       "    }\n",
       "</style>\n",
       "<table border=\"1\" class=\"dataframe\">\n",
       "  <thead>\n",
       "    <tr style=\"text-align: right;\">\n",
       "      <th></th>\n",
       "      <th>Age</th>\n",
       "      <th>Income</th>\n",
       "      <th>Expences</th>\n",
       "      <th>Gender</th>\n",
       "    </tr>\n",
       "  </thead>\n",
       "  <tbody>\n",
       "    <tr>\n",
       "      <th>0</th>\n",
       "      <td>62</td>\n",
       "      <td>829000</td>\n",
       "      <td>1031900</td>\n",
       "      <td>F</td>\n",
       "    </tr>\n",
       "    <tr>\n",
       "      <th>1</th>\n",
       "      <td>29</td>\n",
       "      <td>529000</td>\n",
       "      <td>426300</td>\n",
       "      <td>F</td>\n",
       "    </tr>\n",
       "    <tr>\n",
       "      <th>2</th>\n",
       "      <td>45</td>\n",
       "      <td>881000</td>\n",
       "      <td>1109710</td>\n",
       "      <td>F</td>\n",
       "    </tr>\n",
       "    <tr>\n",
       "      <th>3</th>\n",
       "      <td>62</td>\n",
       "      <td>814000</td>\n",
       "      <td>773140</td>\n",
       "      <td>F</td>\n",
       "    </tr>\n",
       "    <tr>\n",
       "      <th>4</th>\n",
       "      <td>62</td>\n",
       "      <td>723000</td>\n",
       "      <td>700040</td>\n",
       "      <td>F</td>\n",
       "    </tr>\n",
       "  </tbody>\n",
       "</table>\n",
       "</div>"
      ],
      "text/plain": [
       "   Age  Income  Expences Gender\n",
       "0   62  829000   1031900      F\n",
       "1   29  529000    426300      F\n",
       "2   45  881000   1109710      F\n",
       "3   62  814000    773140      F\n",
       "4   62  723000    700040      F"
      ]
     },
     "execution_count": 848,
     "metadata": {},
     "output_type": "execute_result"
    }
   ],
   "source": [
    "df_female_age_reject2.head()"
   ]
  },
  {
   "cell_type": "markdown",
   "metadata": {},
   "source": [
    "###  cpampany"
   ]
  },
  {
   "cell_type": "code",
   "execution_count": 849,
   "metadata": {},
   "outputs": [],
   "source": [
    "df_female_age_reject2[\"Company\"]=\"Rank 3\""
   ]
  },
  {
   "cell_type": "code",
   "execution_count": 850,
   "metadata": {},
   "outputs": [
    {
     "name": "stderr",
     "output_type": "stream",
     "text": [
      "<ipython-input-850-db950bf890e1>:3: SettingWithCopyWarning: \n",
      "A value is trying to be set on a copy of a slice from a DataFrame\n",
      "\n",
      "See the caveats in the documentation: https://pandas.pydata.org/pandas-docs/stable/user_guide/indexing.html#returning-a-view-versus-a-copy\n",
      "  df_female_age_reject2[\"Company\"][index]=\"Rank 2\"\n",
      "<ipython-input-850-db950bf890e1>:5: SettingWithCopyWarning: \n",
      "A value is trying to be set on a copy of a slice from a DataFrame\n",
      "\n",
      "See the caveats in the documentation: https://pandas.pydata.org/pandas-docs/stable/user_guide/indexing.html#returning-a-view-versus-a-copy\n",
      "  df_female_age_reject2[\"Company\"][index]=\"Rank 3\"\n",
      "<ipython-input-850-db950bf890e1>:7: SettingWithCopyWarning: \n",
      "A value is trying to be set on a copy of a slice from a DataFrame\n",
      "\n",
      "See the caveats in the documentation: https://pandas.pydata.org/pandas-docs/stable/user_guide/indexing.html#returning-a-view-versus-a-copy\n",
      "  df_female_age_reject2[\"Company\"][index]=\"Rank 3\"\n"
     ]
    }
   ],
   "source": [
    "for index,income in enumerate(df_female_age_reject2[\"Income\"]):\n",
    "    if(income>=80000 and income<1400000):\n",
    "        df_female_age_reject2[\"Company\"][index]=\"Rank 2\"\n",
    "    if(income>=340000 and income<800000):\n",
    "        df_female_age_reject2[\"Company\"][index]=\"Rank 3\"\n",
    "    if(income>=150000 and income<340000):\n",
    "        df_female_age_reject2[\"Company\"][index]=\"Rank 3\""
   ]
  },
  {
   "cell_type": "markdown",
   "metadata": {},
   "source": [
    "### randomly adding 5%company as rank 1"
   ]
  },
  {
   "cell_type": "code",
   "execution_count": 851,
   "metadata": {
    "scrolled": true
   },
   "outputs": [
    {
     "name": "stderr",
     "output_type": "stream",
     "text": [
      "<ipython-input-851-f965f781d5b2>:3: SettingWithCopyWarning: \n",
      "A value is trying to be set on a copy of a slice from a DataFrame\n",
      "\n",
      "See the caveats in the documentation: https://pandas.pydata.org/pandas-docs/stable/user_guide/indexing.html#returning-a-view-versus-a-copy\n",
      "  df_female_age_reject2[\"Company\"][index]=\"Rank 1\"\n"
     ]
    }
   ],
   "source": [
    "for i in range(int(df_female_age_reject2.shape[0]*0.15)):\n",
    "    index=np.random.randint(0,df_female_age_reject2.shape[0]-1)\n",
    "    df_female_age_reject2[\"Company\"][index]=\"Rank 1\"\n",
    "    "
   ]
  },
  {
   "cell_type": "code",
   "execution_count": 852,
   "metadata": {},
   "outputs": [
    {
     "data": {
      "text/html": [
       "<div>\n",
       "<style scoped>\n",
       "    .dataframe tbody tr th:only-of-type {\n",
       "        vertical-align: middle;\n",
       "    }\n",
       "\n",
       "    .dataframe tbody tr th {\n",
       "        vertical-align: top;\n",
       "    }\n",
       "\n",
       "    .dataframe thead th {\n",
       "        text-align: right;\n",
       "    }\n",
       "</style>\n",
       "<table border=\"1\" class=\"dataframe\">\n",
       "  <thead>\n",
       "    <tr style=\"text-align: right;\">\n",
       "      <th></th>\n",
       "      <th>Age</th>\n",
       "      <th>Income</th>\n",
       "      <th>Expences</th>\n",
       "      <th>Gender</th>\n",
       "      <th>Company</th>\n",
       "    </tr>\n",
       "  </thead>\n",
       "  <tbody>\n",
       "    <tr>\n",
       "      <th>0</th>\n",
       "      <td>62</td>\n",
       "      <td>829000</td>\n",
       "      <td>1031900</td>\n",
       "      <td>F</td>\n",
       "      <td>Rank 2</td>\n",
       "    </tr>\n",
       "    <tr>\n",
       "      <th>1</th>\n",
       "      <td>29</td>\n",
       "      <td>529000</td>\n",
       "      <td>426300</td>\n",
       "      <td>F</td>\n",
       "      <td>Rank 1</td>\n",
       "    </tr>\n",
       "    <tr>\n",
       "      <th>2</th>\n",
       "      <td>45</td>\n",
       "      <td>881000</td>\n",
       "      <td>1109710</td>\n",
       "      <td>F</td>\n",
       "      <td>Rank 2</td>\n",
       "    </tr>\n",
       "    <tr>\n",
       "      <th>3</th>\n",
       "      <td>62</td>\n",
       "      <td>814000</td>\n",
       "      <td>773140</td>\n",
       "      <td>F</td>\n",
       "      <td>Rank 2</td>\n",
       "    </tr>\n",
       "    <tr>\n",
       "      <th>4</th>\n",
       "      <td>62</td>\n",
       "      <td>723000</td>\n",
       "      <td>700040</td>\n",
       "      <td>F</td>\n",
       "      <td>Rank 3</td>\n",
       "    </tr>\n",
       "  </tbody>\n",
       "</table>\n",
       "</div>"
      ],
      "text/plain": [
       "   Age  Income  Expences Gender Company\n",
       "0   62  829000   1031900      F  Rank 2\n",
       "1   29  529000    426300      F  Rank 1\n",
       "2   45  881000   1109710      F  Rank 2\n",
       "3   62  814000    773140      F  Rank 2\n",
       "4   62  723000    700040      F  Rank 3"
      ]
     },
     "execution_count": 852,
     "metadata": {},
     "output_type": "execute_result"
    }
   ],
   "source": [
    "df_female_age_reject2.head()"
   ]
  },
  {
   "cell_type": "code",
   "execution_count": 853,
   "metadata": {},
   "outputs": [],
   "source": [
    "df_female_age_reject2[\"Loan\"]=\"Rejected\""
   ]
  },
  {
   "cell_type": "code",
   "execution_count": 854,
   "metadata": {},
   "outputs": [],
   "source": [
    "df=pd.concat([df_male_age_accept,df_female_age_accept,df_male_age_reject,df_female_age_reject,df_male_age_reject2,df_female_age_reject2],axis=0)"
   ]
  },
  {
   "cell_type": "code",
   "execution_count": 855,
   "metadata": {},
   "outputs": [
    {
     "data": {
      "text/html": [
       "<div>\n",
       "<style scoped>\n",
       "    .dataframe tbody tr th:only-of-type {\n",
       "        vertical-align: middle;\n",
       "    }\n",
       "\n",
       "    .dataframe tbody tr th {\n",
       "        vertical-align: top;\n",
       "    }\n",
       "\n",
       "    .dataframe thead th {\n",
       "        text-align: right;\n",
       "    }\n",
       "</style>\n",
       "<table border=\"1\" class=\"dataframe\">\n",
       "  <thead>\n",
       "    <tr style=\"text-align: right;\">\n",
       "      <th></th>\n",
       "      <th>Age</th>\n",
       "      <th>Income</th>\n",
       "      <th>Expences</th>\n",
       "      <th>Gender</th>\n",
       "      <th>Company</th>\n",
       "      <th>Loan</th>\n",
       "    </tr>\n",
       "  </thead>\n",
       "  <tbody>\n",
       "    <tr>\n",
       "      <th>0</th>\n",
       "      <td>56</td>\n",
       "      <td>3029000</td>\n",
       "      <td>1847690</td>\n",
       "      <td>M</td>\n",
       "      <td>Rank 1</td>\n",
       "      <td>Accepted</td>\n",
       "    </tr>\n",
       "    <tr>\n",
       "      <th>1</th>\n",
       "      <td>29</td>\n",
       "      <td>796000</td>\n",
       "      <td>644760</td>\n",
       "      <td>M</td>\n",
       "      <td>Rank 2</td>\n",
       "      <td>Accepted</td>\n",
       "    </tr>\n",
       "    <tr>\n",
       "      <th>2</th>\n",
       "      <td>50</td>\n",
       "      <td>3011000</td>\n",
       "      <td>2167920</td>\n",
       "      <td>M</td>\n",
       "      <td>Rank 2</td>\n",
       "      <td>Accepted</td>\n",
       "    </tr>\n",
       "    <tr>\n",
       "      <th>3</th>\n",
       "      <td>46</td>\n",
       "      <td>2900000</td>\n",
       "      <td>2059000</td>\n",
       "      <td>M</td>\n",
       "      <td>Rank 1</td>\n",
       "      <td>Accepted</td>\n",
       "    </tr>\n",
       "    <tr>\n",
       "      <th>4</th>\n",
       "      <td>36</td>\n",
       "      <td>1746000</td>\n",
       "      <td>1361880</td>\n",
       "      <td>M</td>\n",
       "      <td>Rank 2</td>\n",
       "      <td>Accepted</td>\n",
       "    </tr>\n",
       "  </tbody>\n",
       "</table>\n",
       "</div>"
      ],
      "text/plain": [
       "   Age   Income  Expences Gender Company      Loan\n",
       "0   56  3029000   1847690      M  Rank 1  Accepted\n",
       "1   29   796000    644760      M  Rank 2  Accepted\n",
       "2   50  3011000   2167920      M  Rank 2  Accepted\n",
       "3   46  2900000   2059000      M  Rank 1  Accepted\n",
       "4   36  1746000   1361880      M  Rank 2  Accepted"
      ]
     },
     "execution_count": 855,
     "metadata": {},
     "output_type": "execute_result"
    }
   ],
   "source": [
    "df.head()"
   ]
  },
  {
   "cell_type": "code",
   "execution_count": 856,
   "metadata": {
    "scrolled": true
   },
   "outputs": [
    {
     "data": {
      "text/plain": [
       "(10000, 6)"
      ]
     },
     "execution_count": 856,
     "metadata": {},
     "output_type": "execute_result"
    }
   ],
   "source": [
    "df.shape"
   ]
  },
  {
   "cell_type": "code",
   "execution_count": 857,
   "metadata": {},
   "outputs": [
    {
     "data": {
      "text/plain": [
       "Int64Index([   0,    1,    2,    3,    4,    5,    6,    7,    8,    9,\n",
       "            ...\n",
       "            1490, 1491, 1492, 1493, 1494, 1495, 1496, 1497, 1498, 1499],\n",
       "           dtype='int64', length=10000)"
      ]
     },
     "execution_count": 857,
     "metadata": {},
     "output_type": "execute_result"
    }
   ],
   "source": [
    "df.index"
   ]
  },
  {
   "cell_type": "code",
   "execution_count": 859,
   "metadata": {},
   "outputs": [
    {
     "data": {
      "text/html": [
       "<div>\n",
       "<style scoped>\n",
       "    .dataframe tbody tr th:only-of-type {\n",
       "        vertical-align: middle;\n",
       "    }\n",
       "\n",
       "    .dataframe tbody tr th {\n",
       "        vertical-align: top;\n",
       "    }\n",
       "\n",
       "    .dataframe thead th {\n",
       "        text-align: right;\n",
       "    }\n",
       "</style>\n",
       "<table border=\"1\" class=\"dataframe\">\n",
       "  <thead>\n",
       "    <tr style=\"text-align: right;\">\n",
       "      <th></th>\n",
       "      <th>Age</th>\n",
       "      <th>Income</th>\n",
       "      <th>Expences</th>\n",
       "      <th>Gender</th>\n",
       "      <th>Company</th>\n",
       "      <th>Loan</th>\n",
       "    </tr>\n",
       "  </thead>\n",
       "  <tbody>\n",
       "    <tr>\n",
       "      <th>0</th>\n",
       "      <td>56</td>\n",
       "      <td>3029000</td>\n",
       "      <td>1847690</td>\n",
       "      <td>M</td>\n",
       "      <td>Rank 1</td>\n",
       "      <td>Accepted</td>\n",
       "    </tr>\n",
       "    <tr>\n",
       "      <th>1</th>\n",
       "      <td>29</td>\n",
       "      <td>796000</td>\n",
       "      <td>644760</td>\n",
       "      <td>M</td>\n",
       "      <td>Rank 2</td>\n",
       "      <td>Accepted</td>\n",
       "    </tr>\n",
       "    <tr>\n",
       "      <th>2</th>\n",
       "      <td>50</td>\n",
       "      <td>3011000</td>\n",
       "      <td>2167920</td>\n",
       "      <td>M</td>\n",
       "      <td>Rank 2</td>\n",
       "      <td>Accepted</td>\n",
       "    </tr>\n",
       "    <tr>\n",
       "      <th>3</th>\n",
       "      <td>46</td>\n",
       "      <td>2900000</td>\n",
       "      <td>2059000</td>\n",
       "      <td>M</td>\n",
       "      <td>Rank 1</td>\n",
       "      <td>Accepted</td>\n",
       "    </tr>\n",
       "    <tr>\n",
       "      <th>4</th>\n",
       "      <td>36</td>\n",
       "      <td>1746000</td>\n",
       "      <td>1361880</td>\n",
       "      <td>M</td>\n",
       "      <td>Rank 2</td>\n",
       "      <td>Accepted</td>\n",
       "    </tr>\n",
       "  </tbody>\n",
       "</table>\n",
       "</div>"
      ],
      "text/plain": [
       "   Age   Income  Expences Gender Company      Loan\n",
       "0   56  3029000   1847690      M  Rank 1  Accepted\n",
       "1   29   796000    644760      M  Rank 2  Accepted\n",
       "2   50  3011000   2167920      M  Rank 2  Accepted\n",
       "3   46  2900000   2059000      M  Rank 1  Accepted\n",
       "4   36  1746000   1361880      M  Rank 2  Accepted"
      ]
     },
     "execution_count": 859,
     "metadata": {},
     "output_type": "execute_result"
    }
   ],
   "source": [
    "df.head()"
   ]
  },
  {
   "cell_type": "code",
   "execution_count": 858,
   "metadata": {},
   "outputs": [],
   "source": [
    "df.to_csv(\"Created_Personal_Loan.csv\")"
   ]
  },
  {
   "cell_type": "code",
   "execution_count": null,
   "metadata": {},
   "outputs": [],
   "source": []
  },
  {
   "cell_type": "code",
   "execution_count": null,
   "metadata": {},
   "outputs": [],
   "source": []
  },
  {
   "cell_type": "code",
   "execution_count": null,
   "metadata": {},
   "outputs": [],
   "source": []
  },
  {
   "cell_type": "code",
   "execution_count": null,
   "metadata": {},
   "outputs": [],
   "source": []
  }
 ],
 "metadata": {
  "kernelspec": {
   "display_name": "Python 3",
   "language": "python",
   "name": "python3"
  },
  "language_info": {
   "codemirror_mode": {
    "name": "ipython",
    "version": 3
   },
   "file_extension": ".py",
   "mimetype": "text/x-python",
   "name": "python",
   "nbconvert_exporter": "python",
   "pygments_lexer": "ipython3",
   "version": "3.8.3"
  }
 },
 "nbformat": 4,
 "nbformat_minor": 4
}
